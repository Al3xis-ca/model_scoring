{
 "cells": [
  {
   "cell_type": "code",
   "execution_count": 1,
   "id": "1c6fbea2",
   "metadata": {},
   "outputs": [],
   "source": [
    "import pandas as pd\n",
    "import numpy as np\n",
    "import pickle\n",
    "from sklearn.neighbors import NearestNeighbors\n",
    "from sklearn.preprocessing import StandardScaler\n",
    "import matplotlib.pyplot as plt\n",
    "import seaborn as sns"
   ]
  },
  {
   "cell_type": "code",
   "execution_count": 2,
   "id": "4cb383b1",
   "metadata": {},
   "outputs": [],
   "source": [
    "import warnings\n",
    "from sklearn.exceptions import DataConversionWarning\n",
    "\n",
    "warnings.filterwarnings(action='ignore', category=UserWarning, module='sklearn')"
   ]
  },
  {
   "cell_type": "code",
   "execution_count": 2,
   "id": "931786b3",
   "metadata": {},
   "outputs": [
    {
     "data": {
      "text/plain": [
       "(1000, 796)"
      ]
     },
     "execution_count": 2,
     "metadata": {},
     "output_type": "execute_result"
    }
   ],
   "source": [
    "#path = \"data/pickle/\"\n",
    "X_test = pickle.load(open('X_test_low.pickle', 'rb'))\n",
    "X_test.shape"
   ]
  },
  {
   "cell_type": "code",
   "execution_count": 4,
   "id": "514a3af5",
   "metadata": {},
   "outputs": [
    {
     "data": {
      "text/plain": [
       "SK_ID_CURR                          0\n",
       "CODE_GENDER                         0\n",
       "FLAG_OWN_CAR                        0\n",
       "FLAG_OWN_REALTY                     0\n",
       "CNT_CHILDREN                        0\n",
       "                                   ..\n",
       "CC_NAME_CONTRACT_STATUS_nan_MAX     0\n",
       "CC_NAME_CONTRACT_STATUS_nan_MEAN    0\n",
       "CC_NAME_CONTRACT_STATUS_nan_SUM     0\n",
       "CC_NAME_CONTRACT_STATUS_nan_VAR     0\n",
       "CC_COUNT                            0\n",
       "Length: 796, dtype: int64"
      ]
     },
     "execution_count": 4,
     "metadata": {},
     "output_type": "execute_result"
    }
   ],
   "source": [
    "X_test.shape"
   ]
  },
  {
   "cell_type": "code",
   "execution_count": 2,
   "id": "b9e21143",
   "metadata": {},
   "outputs": [
    {
     "ename": "NameError",
     "evalue": "name 'X_train' is not defined",
     "output_type": "error",
     "traceback": [
      "\u001b[0;31m---------------------------------------------------------------------------\u001b[0m",
      "\u001b[0;31mNameError\u001b[0m                                 Traceback (most recent call last)",
      "Cell \u001b[0;32mIn[2], line 3\u001b[0m\n\u001b[1;32m      1\u001b[0m path \u001b[38;5;241m=\u001b[39m \u001b[38;5;124m\"\u001b[39m\u001b[38;5;124mdata/pickle/\u001b[39m\u001b[38;5;124m\"\u001b[39m\n\u001b[1;32m      2\u001b[0m \u001b[38;5;28;01mwith\u001b[39;00m \u001b[38;5;28mopen\u001b[39m(\u001b[38;5;124m\"\u001b[39m\u001b[38;5;124mX_test_low.pickle\u001b[39m\u001b[38;5;124m\"\u001b[39m, \u001b[38;5;124m\"\u001b[39m\u001b[38;5;124mwb\u001b[39m\u001b[38;5;124m\"\u001b[39m) \u001b[38;5;28;01mas\u001b[39;00m file:\n\u001b[0;32m----> 3\u001b[0m     pickle\u001b[38;5;241m.\u001b[39mdump(\u001b[43mX_train\u001b[49m, file)\n",
      "\u001b[0;31mNameError\u001b[0m: name 'X_train' is not defined"
     ]
    }
   ],
   "source": [
    "path = \"data/pickle/\"\n",
    "with open(\"X_test_low.pickle\", \"wb\") as file:\n",
    "    pickle.dump(X_train, file)"
   ]
  },
  {
   "cell_type": "code",
   "execution_count": null,
   "id": "0c38dc6d",
   "metadata": {},
   "outputs": [],
   "source": []
  },
  {
   "cell_type": "code",
   "execution_count": 49,
   "id": "af1c9c1a",
   "metadata": {},
   "outputs": [],
   "source": [
    "path = 'data/source/'\n",
    "app_train = pd.read_csv(path + \"application_train.csv\")"
   ]
  },
  {
   "cell_type": "code",
   "execution_count": 15,
   "id": "d46322ba",
   "metadata": {},
   "outputs": [
    {
     "ename": "NameError",
     "evalue": "name 'app_train' is not defined",
     "output_type": "error",
     "traceback": [
      "\u001b[1;31m---------------------------------------------------------------------------\u001b[0m",
      "\u001b[1;31mNameError\u001b[0m                                 Traceback (most recent call last)",
      "Cell \u001b[1;32mIn[15], line 3\u001b[0m\n\u001b[0;32m      1\u001b[0m path \u001b[38;5;241m=\u001b[39m \u001b[38;5;124m\"\u001b[39m\u001b[38;5;124mdata/pickle/\u001b[39m\u001b[38;5;124m\"\u001b[39m\n\u001b[0;32m      2\u001b[0m \u001b[38;5;28;01mwith\u001b[39;00m \u001b[38;5;28mopen\u001b[39m(path\u001b[38;5;241m+\u001b[39m\u001b[38;5;124m\"\u001b[39m\u001b[38;5;124mapp_train.pickle\u001b[39m\u001b[38;5;124m\"\u001b[39m, \u001b[38;5;124m\"\u001b[39m\u001b[38;5;124mwb\u001b[39m\u001b[38;5;124m\"\u001b[39m) \u001b[38;5;28;01mas\u001b[39;00m file:\n\u001b[1;32m----> 3\u001b[0m     pickle\u001b[38;5;241m.\u001b[39mdump(\u001b[43mapp_train\u001b[49m, file)\n\u001b[0;32m      4\u001b[0m path \u001b[38;5;241m=\u001b[39m \u001b[38;5;124m\"\u001b[39m\u001b[38;5;124mdata/pickle/\u001b[39m\u001b[38;5;124m\"\u001b[39m\n\u001b[0;32m      5\u001b[0m \u001b[38;5;28;01mwith\u001b[39;00m \u001b[38;5;28mopen\u001b[39m(path\u001b[38;5;241m+\u001b[39m\u001b[38;5;124m\"\u001b[39m\u001b[38;5;124mapp_train.pickle\u001b[39m\u001b[38;5;124m\"\u001b[39m, \u001b[38;5;124m\"\u001b[39m\u001b[38;5;124mrb\u001b[39m\u001b[38;5;124m\"\u001b[39m) \u001b[38;5;28;01mas\u001b[39;00m file:\n",
      "\u001b[1;31mNameError\u001b[0m: name 'app_train' is not defined"
     ]
    }
   ],
   "source": [
    "path = \"data/pickle/\"\n",
    "with open(path+\"app_train.pickle\", \"wb\") as file:\n",
    "    pickle.dump(app_train, file)\n",
    "path = \"data/pickle/\"\n",
    "with open(path+\"app_train.pickle\", \"rb\") as file:\n",
    "    app_train = pickle.load(file)\n",
    "app_train.shape"
   ]
  },
  {
   "cell_type": "code",
   "execution_count": 5,
   "id": "3670cd1f",
   "metadata": {},
   "outputs": [],
   "source": [
    "path = 'data/source/'\n",
    "app_test = pd.read_csv(path + \"application_test.csv\")"
   ]
  },
  {
   "cell_type": "code",
   "execution_count": 6,
   "id": "c9ac9cc7",
   "metadata": {},
   "outputs": [
    {
     "data": {
      "text/plain": [
       "(48744, 121)"
      ]
     },
     "execution_count": 6,
     "metadata": {},
     "output_type": "execute_result"
    }
   ],
   "source": [
    "path = \"data/pickle/\"\n",
    "with open(path+\"app_test.pickle\", \"wb\") as file:\n",
    "    pickle.dump(app_test, file)\n",
    "path = \"data/pickle/\"\n",
    "with open(path+\"app_test.pickle\", \"rb\") as file:\n",
    "    app_test = pickle.load(file)\n",
    "app_test.shape"
   ]
  },
  {
   "cell_type": "markdown",
   "id": "fb1d7f8d",
   "metadata": {},
   "source": [
    "## KNN Plus proche voisin"
   ]
  },
  {
   "cell_type": "code",
   "execution_count": 3,
   "id": "5f7eb154",
   "metadata": {},
   "outputs": [
    {
     "data": {
      "text/plain": [
       "(307507, 797)"
      ]
     },
     "execution_count": 3,
     "metadata": {},
     "output_type": "execute_result"
    }
   ],
   "source": [
    "path = \"data/pickle/\"\n",
    "X_train = pickle.load(open(path + 'X_train.pickle', 'rb'))\n",
    "X_train.shape"
   ]
  },
  {
   "cell_type": "code",
   "execution_count": 4,
   "id": "3c06196c",
   "metadata": {},
   "outputs": [],
   "source": [
    "X_train = X_train[:1000]"
   ]
  },
  {
   "cell_type": "code",
   "execution_count": 5,
   "id": "21a314e5",
   "metadata": {},
   "outputs": [
    {
     "data": {
      "text/html": [
       "<div>\n",
       "<style scoped>\n",
       "    .dataframe tbody tr th:only-of-type {\n",
       "        vertical-align: middle;\n",
       "    }\n",
       "\n",
       "    .dataframe tbody tr th {\n",
       "        vertical-align: top;\n",
       "    }\n",
       "\n",
       "    .dataframe thead th {\n",
       "        text-align: right;\n",
       "    }\n",
       "</style>\n",
       "<table border=\"1\" class=\"dataframe\">\n",
       "  <thead>\n",
       "    <tr style=\"text-align: right;\">\n",
       "      <th></th>\n",
       "      <th>index</th>\n",
       "      <th>SK_ID_CURR</th>\n",
       "      <th>CODE_GENDER</th>\n",
       "      <th>FLAG_OWN_CAR</th>\n",
       "      <th>FLAG_OWN_REALTY</th>\n",
       "      <th>CNT_CHILDREN</th>\n",
       "      <th>AMT_INCOME_TOTAL</th>\n",
       "      <th>AMT_CREDIT</th>\n",
       "      <th>AMT_ANNUITY</th>\n",
       "      <th>AMT_GOODS_PRICE</th>\n",
       "      <th>...</th>\n",
       "      <th>CC_NAME_CONTRACT_STATUS_Signed_MAX</th>\n",
       "      <th>CC_NAME_CONTRACT_STATUS_Signed_MEAN</th>\n",
       "      <th>CC_NAME_CONTRACT_STATUS_Signed_SUM</th>\n",
       "      <th>CC_NAME_CONTRACT_STATUS_Signed_VAR</th>\n",
       "      <th>CC_NAME_CONTRACT_STATUS_nan_MIN</th>\n",
       "      <th>CC_NAME_CONTRACT_STATUS_nan_MAX</th>\n",
       "      <th>CC_NAME_CONTRACT_STATUS_nan_MEAN</th>\n",
       "      <th>CC_NAME_CONTRACT_STATUS_nan_SUM</th>\n",
       "      <th>CC_NAME_CONTRACT_STATUS_nan_VAR</th>\n",
       "      <th>CC_COUNT</th>\n",
       "    </tr>\n",
       "  </thead>\n",
       "  <tbody>\n",
       "    <tr>\n",
       "      <th>0</th>\n",
       "      <td>0.0</td>\n",
       "      <td>100002</td>\n",
       "      <td>0.0</td>\n",
       "      <td>0.0</td>\n",
       "      <td>0.0</td>\n",
       "      <td>0.0</td>\n",
       "      <td>202500.0</td>\n",
       "      <td>406597.5</td>\n",
       "      <td>24700.5</td>\n",
       "      <td>351000.0</td>\n",
       "      <td>...</td>\n",
       "      <td>0.0</td>\n",
       "      <td>0.0</td>\n",
       "      <td>0.0</td>\n",
       "      <td>0.0</td>\n",
       "      <td>0.0</td>\n",
       "      <td>0.0</td>\n",
       "      <td>0.0</td>\n",
       "      <td>0.0</td>\n",
       "      <td>0.0</td>\n",
       "      <td>22.0</td>\n",
       "    </tr>\n",
       "    <tr>\n",
       "      <th>1</th>\n",
       "      <td>1.0</td>\n",
       "      <td>100003</td>\n",
       "      <td>1.0</td>\n",
       "      <td>0.0</td>\n",
       "      <td>1.0</td>\n",
       "      <td>0.0</td>\n",
       "      <td>270000.0</td>\n",
       "      <td>1293502.5</td>\n",
       "      <td>35698.5</td>\n",
       "      <td>1129500.0</td>\n",
       "      <td>...</td>\n",
       "      <td>0.0</td>\n",
       "      <td>0.0</td>\n",
       "      <td>0.0</td>\n",
       "      <td>0.0</td>\n",
       "      <td>0.0</td>\n",
       "      <td>0.0</td>\n",
       "      <td>0.0</td>\n",
       "      <td>0.0</td>\n",
       "      <td>0.0</td>\n",
       "      <td>22.0</td>\n",
       "    </tr>\n",
       "  </tbody>\n",
       "</table>\n",
       "<p>2 rows × 797 columns</p>\n",
       "</div>"
      ],
      "text/plain": [
       "   index  SK_ID_CURR  CODE_GENDER  FLAG_OWN_CAR  FLAG_OWN_REALTY  \\\n",
       "0    0.0      100002          0.0           0.0              0.0   \n",
       "1    1.0      100003          1.0           0.0              1.0   \n",
       "\n",
       "   CNT_CHILDREN  AMT_INCOME_TOTAL  AMT_CREDIT  AMT_ANNUITY  AMT_GOODS_PRICE  \\\n",
       "0           0.0          202500.0    406597.5      24700.5         351000.0   \n",
       "1           0.0          270000.0   1293502.5      35698.5        1129500.0   \n",
       "\n",
       "   ...  CC_NAME_CONTRACT_STATUS_Signed_MAX  \\\n",
       "0  ...                                 0.0   \n",
       "1  ...                                 0.0   \n",
       "\n",
       "   CC_NAME_CONTRACT_STATUS_Signed_MEAN  CC_NAME_CONTRACT_STATUS_Signed_SUM  \\\n",
       "0                                  0.0                                 0.0   \n",
       "1                                  0.0                                 0.0   \n",
       "\n",
       "   CC_NAME_CONTRACT_STATUS_Signed_VAR  CC_NAME_CONTRACT_STATUS_nan_MIN  \\\n",
       "0                                 0.0                              0.0   \n",
       "1                                 0.0                              0.0   \n",
       "\n",
       "   CC_NAME_CONTRACT_STATUS_nan_MAX  CC_NAME_CONTRACT_STATUS_nan_MEAN  \\\n",
       "0                              0.0                               0.0   \n",
       "1                              0.0                               0.0   \n",
       "\n",
       "   CC_NAME_CONTRACT_STATUS_nan_SUM  CC_NAME_CONTRACT_STATUS_nan_VAR  CC_COUNT  \n",
       "0                              0.0                              0.0      22.0  \n",
       "1                              0.0                              0.0      22.0  \n",
       "\n",
       "[2 rows x 797 columns]"
      ]
     },
     "execution_count": 5,
     "metadata": {},
     "output_type": "execute_result"
    }
   ],
   "source": [
    "X_train.head(2)"
   ]
  },
  {
   "cell_type": "code",
   "execution_count": 7,
   "id": "3b8bf470",
   "metadata": {},
   "outputs": [],
   "source": [
    "X_train.drop(['index', 'SK_ID_CURR'], axis=1, inplace=True)"
   ]
  },
  {
   "cell_type": "code",
   "execution_count": 8,
   "id": "284aefd1",
   "metadata": {},
   "outputs": [],
   "source": [
    "interpretable_important_data = ['EXT_SOURCE_2',\n",
    " 'EXT_SOURCE_3',\n",
    " 'EXT_SOURCE_1',\n",
    " 'CODE_GENDER',\n",
    " 'PAYMENT_RATE',\n",
    " 'INSTAL_DPD_MEAN',\n",
    " 'INSTAL_AMT_PAYMENT_SUM',\n",
    " 'APPROVED_CNT_PAYMENT_MEAN',\n",
    " 'AMT_ANNUITY',\n",
    " 'DAYS_BIRTH',\n",
    " 'DAYS_EMPLOYED',\n",
    " 'NAME_EDUCATION_TYPE_Highereducation',\n",
    " 'FLAG_OWN_CAR',\n",
    " 'DAYS_EMPLOYED_PERC',\n",
    " 'NAME_FAMILY_STATUS_Married']"
   ]
  },
  {
   "cell_type": "code",
   "execution_count": 9,
   "id": "7d0120f8",
   "metadata": {},
   "outputs": [
    {
     "data": {
      "text/html": [
       "<style>#sk-container-id-1 {color: black;background-color: white;}#sk-container-id-1 pre{padding: 0;}#sk-container-id-1 div.sk-toggleable {background-color: white;}#sk-container-id-1 label.sk-toggleable__label {cursor: pointer;display: block;width: 100%;margin-bottom: 0;padding: 0.3em;box-sizing: border-box;text-align: center;}#sk-container-id-1 label.sk-toggleable__label-arrow:before {content: \"▸\";float: left;margin-right: 0.25em;color: #696969;}#sk-container-id-1 label.sk-toggleable__label-arrow:hover:before {color: black;}#sk-container-id-1 div.sk-estimator:hover label.sk-toggleable__label-arrow:before {color: black;}#sk-container-id-1 div.sk-toggleable__content {max-height: 0;max-width: 0;overflow: hidden;text-align: left;background-color: #f0f8ff;}#sk-container-id-1 div.sk-toggleable__content pre {margin: 0.2em;color: black;border-radius: 0.25em;background-color: #f0f8ff;}#sk-container-id-1 input.sk-toggleable__control:checked~div.sk-toggleable__content {max-height: 200px;max-width: 100%;overflow: auto;}#sk-container-id-1 input.sk-toggleable__control:checked~label.sk-toggleable__label-arrow:before {content: \"▾\";}#sk-container-id-1 div.sk-estimator input.sk-toggleable__control:checked~label.sk-toggleable__label {background-color: #d4ebff;}#sk-container-id-1 div.sk-label input.sk-toggleable__control:checked~label.sk-toggleable__label {background-color: #d4ebff;}#sk-container-id-1 input.sk-hidden--visually {border: 0;clip: rect(1px 1px 1px 1px);clip: rect(1px, 1px, 1px, 1px);height: 1px;margin: -1px;overflow: hidden;padding: 0;position: absolute;width: 1px;}#sk-container-id-1 div.sk-estimator {font-family: monospace;background-color: #f0f8ff;border: 1px dotted black;border-radius: 0.25em;box-sizing: border-box;margin-bottom: 0.5em;}#sk-container-id-1 div.sk-estimator:hover {background-color: #d4ebff;}#sk-container-id-1 div.sk-parallel-item::after {content: \"\";width: 100%;border-bottom: 1px solid gray;flex-grow: 1;}#sk-container-id-1 div.sk-label:hover label.sk-toggleable__label {background-color: #d4ebff;}#sk-container-id-1 div.sk-serial::before {content: \"\";position: absolute;border-left: 1px solid gray;box-sizing: border-box;top: 0;bottom: 0;left: 50%;z-index: 0;}#sk-container-id-1 div.sk-serial {display: flex;flex-direction: column;align-items: center;background-color: white;padding-right: 0.2em;padding-left: 0.2em;position: relative;}#sk-container-id-1 div.sk-item {position: relative;z-index: 1;}#sk-container-id-1 div.sk-parallel {display: flex;align-items: stretch;justify-content: center;background-color: white;position: relative;}#sk-container-id-1 div.sk-item::before, #sk-container-id-1 div.sk-parallel-item::before {content: \"\";position: absolute;border-left: 1px solid gray;box-sizing: border-box;top: 0;bottom: 0;left: 50%;z-index: -1;}#sk-container-id-1 div.sk-parallel-item {display: flex;flex-direction: column;z-index: 1;position: relative;background-color: white;}#sk-container-id-1 div.sk-parallel-item:first-child::after {align-self: flex-end;width: 50%;}#sk-container-id-1 div.sk-parallel-item:last-child::after {align-self: flex-start;width: 50%;}#sk-container-id-1 div.sk-parallel-item:only-child::after {width: 0;}#sk-container-id-1 div.sk-dashed-wrapped {border: 1px dashed gray;margin: 0 0.4em 0.5em 0.4em;box-sizing: border-box;padding-bottom: 0.4em;background-color: white;}#sk-container-id-1 div.sk-label label {font-family: monospace;font-weight: bold;display: inline-block;line-height: 1.2em;}#sk-container-id-1 div.sk-label-container {text-align: center;}#sk-container-id-1 div.sk-container {/* jupyter's `normalize.less` sets `[hidden] { display: none; }` but bootstrap.min.css set `[hidden] { display: none !important; }` so we also need the `!important` here to be able to override the default hidden behavior on the sphinx rendered scikit-learn.org. See: https://github.com/scikit-learn/scikit-learn/issues/21755 */display: inline-block !important;position: relative;}#sk-container-id-1 div.sk-text-repr-fallback {display: none;}</style><div id=\"sk-container-id-1\" class=\"sk-top-container\"><div class=\"sk-text-repr-fallback\"><pre>NearestNeighbors()</pre><b>In a Jupyter environment, please rerun this cell to show the HTML representation or trust the notebook. <br />On GitHub, the HTML representation is unable to render, please try loading this page with nbviewer.org.</b></div><div class=\"sk-container\" hidden><div class=\"sk-item\"><div class=\"sk-estimator sk-toggleable\"><input class=\"sk-toggleable__control sk-hidden--visually\" id=\"sk-estimator-id-1\" type=\"checkbox\" checked><label for=\"sk-estimator-id-1\" class=\"sk-toggleable__label sk-toggleable__label-arrow\">NearestNeighbors</label><div class=\"sk-toggleable__content\"><pre>NearestNeighbors()</pre></div></div></div></div></div>"
      ],
      "text/plain": [
       "NearestNeighbors()"
      ]
     },
     "execution_count": 9,
     "metadata": {},
     "output_type": "execute_result"
    }
   ],
   "source": [
    "from sklearn.neighbors import NearestNeighbors\n",
    "std = StandardScaler()\n",
    "X_train_std = std.fit_transform(X_train[interpretable_important_data])\n",
    "X_train_std = pd.DataFrame(X_train_std,\n",
    "                      index=X_train.index,\n",
    "                      columns=[interpretable_important_data])\n",
    "\n",
    "knn = NearestNeighbors(n_neighbors=5)\n",
    "knn.fit(X_train_std)"
   ]
  },
  {
   "cell_type": "code",
   "execution_count": 10,
   "id": "c9150b30",
   "metadata": {},
   "outputs": [],
   "source": [
    "path = \"data/pickle/\"\n",
    "with open(path+\"knn_low.pickle\", \"wb\") as file:\n",
    "    pickle.dump(knn, file)"
   ]
  },
  {
   "cell_type": "code",
   "execution_count": 11,
   "id": "7ef284ad",
   "metadata": {},
   "outputs": [
    {
     "data": {
      "text/html": [
       "<style>#sk-container-id-2 {color: black;background-color: white;}#sk-container-id-2 pre{padding: 0;}#sk-container-id-2 div.sk-toggleable {background-color: white;}#sk-container-id-2 label.sk-toggleable__label {cursor: pointer;display: block;width: 100%;margin-bottom: 0;padding: 0.3em;box-sizing: border-box;text-align: center;}#sk-container-id-2 label.sk-toggleable__label-arrow:before {content: \"▸\";float: left;margin-right: 0.25em;color: #696969;}#sk-container-id-2 label.sk-toggleable__label-arrow:hover:before {color: black;}#sk-container-id-2 div.sk-estimator:hover label.sk-toggleable__label-arrow:before {color: black;}#sk-container-id-2 div.sk-toggleable__content {max-height: 0;max-width: 0;overflow: hidden;text-align: left;background-color: #f0f8ff;}#sk-container-id-2 div.sk-toggleable__content pre {margin: 0.2em;color: black;border-radius: 0.25em;background-color: #f0f8ff;}#sk-container-id-2 input.sk-toggleable__control:checked~div.sk-toggleable__content {max-height: 200px;max-width: 100%;overflow: auto;}#sk-container-id-2 input.sk-toggleable__control:checked~label.sk-toggleable__label-arrow:before {content: \"▾\";}#sk-container-id-2 div.sk-estimator input.sk-toggleable__control:checked~label.sk-toggleable__label {background-color: #d4ebff;}#sk-container-id-2 div.sk-label input.sk-toggleable__control:checked~label.sk-toggleable__label {background-color: #d4ebff;}#sk-container-id-2 input.sk-hidden--visually {border: 0;clip: rect(1px 1px 1px 1px);clip: rect(1px, 1px, 1px, 1px);height: 1px;margin: -1px;overflow: hidden;padding: 0;position: absolute;width: 1px;}#sk-container-id-2 div.sk-estimator {font-family: monospace;background-color: #f0f8ff;border: 1px dotted black;border-radius: 0.25em;box-sizing: border-box;margin-bottom: 0.5em;}#sk-container-id-2 div.sk-estimator:hover {background-color: #d4ebff;}#sk-container-id-2 div.sk-parallel-item::after {content: \"\";width: 100%;border-bottom: 1px solid gray;flex-grow: 1;}#sk-container-id-2 div.sk-label:hover label.sk-toggleable__label {background-color: #d4ebff;}#sk-container-id-2 div.sk-serial::before {content: \"\";position: absolute;border-left: 1px solid gray;box-sizing: border-box;top: 0;bottom: 0;left: 50%;z-index: 0;}#sk-container-id-2 div.sk-serial {display: flex;flex-direction: column;align-items: center;background-color: white;padding-right: 0.2em;padding-left: 0.2em;position: relative;}#sk-container-id-2 div.sk-item {position: relative;z-index: 1;}#sk-container-id-2 div.sk-parallel {display: flex;align-items: stretch;justify-content: center;background-color: white;position: relative;}#sk-container-id-2 div.sk-item::before, #sk-container-id-2 div.sk-parallel-item::before {content: \"\";position: absolute;border-left: 1px solid gray;box-sizing: border-box;top: 0;bottom: 0;left: 50%;z-index: -1;}#sk-container-id-2 div.sk-parallel-item {display: flex;flex-direction: column;z-index: 1;position: relative;background-color: white;}#sk-container-id-2 div.sk-parallel-item:first-child::after {align-self: flex-end;width: 50%;}#sk-container-id-2 div.sk-parallel-item:last-child::after {align-self: flex-start;width: 50%;}#sk-container-id-2 div.sk-parallel-item:only-child::after {width: 0;}#sk-container-id-2 div.sk-dashed-wrapped {border: 1px dashed gray;margin: 0 0.4em 0.5em 0.4em;box-sizing: border-box;padding-bottom: 0.4em;background-color: white;}#sk-container-id-2 div.sk-label label {font-family: monospace;font-weight: bold;display: inline-block;line-height: 1.2em;}#sk-container-id-2 div.sk-label-container {text-align: center;}#sk-container-id-2 div.sk-container {/* jupyter's `normalize.less` sets `[hidden] { display: none; }` but bootstrap.min.css set `[hidden] { display: none !important; }` so we also need the `!important` here to be able to override the default hidden behavior on the sphinx rendered scikit-learn.org. See: https://github.com/scikit-learn/scikit-learn/issues/21755 */display: inline-block !important;position: relative;}#sk-container-id-2 div.sk-text-repr-fallback {display: none;}</style><div id=\"sk-container-id-2\" class=\"sk-top-container\"><div class=\"sk-text-repr-fallback\"><pre>NearestNeighbors()</pre><b>In a Jupyter environment, please rerun this cell to show the HTML representation or trust the notebook. <br />On GitHub, the HTML representation is unable to render, please try loading this page with nbviewer.org.</b></div><div class=\"sk-container\" hidden><div class=\"sk-item\"><div class=\"sk-estimator sk-toggleable\"><input class=\"sk-toggleable__control sk-hidden--visually\" id=\"sk-estimator-id-2\" type=\"checkbox\" checked><label for=\"sk-estimator-id-2\" class=\"sk-toggleable__label sk-toggleable__label-arrow\">NearestNeighbors</label><div class=\"sk-toggleable__content\"><pre>NearestNeighbors()</pre></div></div></div></div></div>"
      ],
      "text/plain": [
       "NearestNeighbors()"
      ]
     },
     "execution_count": 11,
     "metadata": {},
     "output_type": "execute_result"
    }
   ],
   "source": [
    "path = \"data/pickle/\"\n",
    "with open(path+\"knn_low.pickle\", \"rb\") as file:\n",
    "    knn = pickle.load(file)\n",
    "knn"
   ]
  },
  {
   "cell_type": "code",
   "execution_count": null,
   "id": "8a3bd8df",
   "metadata": {},
   "outputs": [],
   "source": []
  },
  {
   "cell_type": "markdown",
   "id": "9a37be43",
   "metadata": {},
   "source": [
    "# Load voisins"
   ]
  },
  {
   "cell_type": "code",
   "execution_count": 14,
   "id": "aad9e661",
   "metadata": {},
   "outputs": [
    {
     "ename": "FileNotFoundError",
     "evalue": "[Errno 2] No such file or directory: 'X_train_low.pickle'",
     "output_type": "error",
     "traceback": [
      "\u001b[0;31m---------------------------------------------------------------------------\u001b[0m",
      "\u001b[0;31mFileNotFoundError\u001b[0m                         Traceback (most recent call last)",
      "Cell \u001b[0;32mIn[14], line 1\u001b[0m\n\u001b[0;32m----> 1\u001b[0m df_train \u001b[38;5;241m=\u001b[39m pickle\u001b[38;5;241m.\u001b[39mload(\u001b[38;5;28;43mopen\u001b[39;49m\u001b[43m(\u001b[49m\u001b[38;5;124;43m'\u001b[39;49m\u001b[38;5;124;43mX_train_low.pickle\u001b[39;49m\u001b[38;5;124;43m'\u001b[39;49m\u001b[43m,\u001b[49m\u001b[43m \u001b[49m\u001b[38;5;124;43m'\u001b[39;49m\u001b[38;5;124;43mrb\u001b[39;49m\u001b[38;5;124;43m'\u001b[39;49m\u001b[43m)\u001b[49m)\n",
      "File \u001b[0;32m~/anaconda3/lib/python3.10/site-packages/IPython/core/interactiveshell.py:282\u001b[0m, in \u001b[0;36m_modified_open\u001b[0;34m(file, *args, **kwargs)\u001b[0m\n\u001b[1;32m    275\u001b[0m \u001b[38;5;28;01mif\u001b[39;00m file \u001b[38;5;129;01min\u001b[39;00m {\u001b[38;5;241m0\u001b[39m, \u001b[38;5;241m1\u001b[39m, \u001b[38;5;241m2\u001b[39m}:\n\u001b[1;32m    276\u001b[0m     \u001b[38;5;28;01mraise\u001b[39;00m \u001b[38;5;167;01mValueError\u001b[39;00m(\n\u001b[1;32m    277\u001b[0m         \u001b[38;5;124mf\u001b[39m\u001b[38;5;124m\"\u001b[39m\u001b[38;5;124mIPython won\u001b[39m\u001b[38;5;124m'\u001b[39m\u001b[38;5;124mt let you open fd=\u001b[39m\u001b[38;5;132;01m{\u001b[39;00mfile\u001b[38;5;132;01m}\u001b[39;00m\u001b[38;5;124m by default \u001b[39m\u001b[38;5;124m\"\u001b[39m\n\u001b[1;32m    278\u001b[0m         \u001b[38;5;124m\"\u001b[39m\u001b[38;5;124mas it is likely to crash IPython. If you know what you are doing, \u001b[39m\u001b[38;5;124m\"\u001b[39m\n\u001b[1;32m    279\u001b[0m         \u001b[38;5;124m\"\u001b[39m\u001b[38;5;124myou can use builtins\u001b[39m\u001b[38;5;124m'\u001b[39m\u001b[38;5;124m open.\u001b[39m\u001b[38;5;124m\"\u001b[39m\n\u001b[1;32m    280\u001b[0m     )\n\u001b[0;32m--> 282\u001b[0m \u001b[38;5;28;01mreturn\u001b[39;00m \u001b[43mio_open\u001b[49m\u001b[43m(\u001b[49m\u001b[43mfile\u001b[49m\u001b[43m,\u001b[49m\u001b[43m \u001b[49m\u001b[38;5;241;43m*\u001b[39;49m\u001b[43margs\u001b[49m\u001b[43m,\u001b[49m\u001b[43m \u001b[49m\u001b[38;5;241;43m*\u001b[39;49m\u001b[38;5;241;43m*\u001b[39;49m\u001b[43mkwargs\u001b[49m\u001b[43m)\u001b[49m\n",
      "\u001b[0;31mFileNotFoundError\u001b[0m: [Errno 2] No such file or directory: 'X_train_low.pickle'"
     ]
    }
   ],
   "source": [
    "df_train = pickle.load(open('X_train_low.pickle', 'rb'))"
   ]
  },
  {
   "cell_type": "code",
   "execution_count": 16,
   "id": "9598138d",
   "metadata": {},
   "outputs": [],
   "source": [
    "path = \"data/pickle/\"\n",
    "df_test = pickle.load(open(path + 'X_test_low.pickle', 'rb'))\n",
    "df_train = pickle.load(open(path + 'X_train_low.pickle', 'rb'))\n",
    "model = pickle.load(open(path + 'model.pickle', 'rb'))\n",
    "knn = pickle.load(open(path +'knn_low.pickle', 'rb'))\n",
    "app_train = pickle.load(open(path + 'app_train_low.pickle', 'rb'))\n",
    "app_test = pickle.load(open(path + 'app_test_low.pickle', 'rb'))"
   ]
  },
  {
   "cell_type": "code",
   "execution_count": 17,
   "id": "33be07d6",
   "metadata": {},
   "outputs": [],
   "source": [
    "id = 100005\n",
    "interpretable_important_data = ['EXT_SOURCE_2',\n",
    "                                    'EXT_SOURCE_3',\n",
    "                                    'EXT_SOURCE_1',\n",
    "                                    'CODE_GENDER',\n",
    "                                    'PAYMENT_RATE',\n",
    "                                    'INSTAL_DPD_MEAN',\n",
    "                                    'INSTAL_AMT_PAYMENT_SUM',\n",
    "                                    'APPROVED_CNT_PAYMENT_MEAN',\n",
    "                                    'AMT_ANNUITY',\n",
    "                                    'DAYS_BIRTH',\n",
    "                                    'DAYS_EMPLOYED',\n",
    "                                    'NAME_EDUCATION_TYPE_Highereducation',\n",
    "                                    'FLAG_OWN_CAR',\n",
    "                                    'DAYS_EMPLOYED_PERC',\n",
    "                                    'NAME_FAMILY_STATUS_Married']"
   ]
  },
  {
   "cell_type": "code",
   "execution_count": 18,
   "id": "c27591d3",
   "metadata": {},
   "outputs": [],
   "source": [
    "#selection client\n",
    "data_client = df_test[df_test[\"SK_ID_CURR\"] == int(id)][interpretable_important_data]"
   ]
  },
  {
   "cell_type": "code",
   "execution_count": 19,
   "id": "6a24e1d3",
   "metadata": {},
   "outputs": [
    {
     "data": {
      "text/html": [
       "<div>\n",
       "<style scoped>\n",
       "    .dataframe tbody tr th:only-of-type {\n",
       "        vertical-align: middle;\n",
       "    }\n",
       "\n",
       "    .dataframe tbody tr th {\n",
       "        vertical-align: top;\n",
       "    }\n",
       "\n",
       "    .dataframe thead th {\n",
       "        text-align: right;\n",
       "    }\n",
       "</style>\n",
       "<table border=\"1\" class=\"dataframe\">\n",
       "  <thead>\n",
       "    <tr style=\"text-align: right;\">\n",
       "      <th></th>\n",
       "      <th>EXT_SOURCE_2</th>\n",
       "      <th>EXT_SOURCE_3</th>\n",
       "      <th>EXT_SOURCE_1</th>\n",
       "      <th>CODE_GENDER</th>\n",
       "      <th>PAYMENT_RATE</th>\n",
       "      <th>INSTAL_DPD_MEAN</th>\n",
       "      <th>INSTAL_AMT_PAYMENT_SUM</th>\n",
       "      <th>APPROVED_CNT_PAYMENT_MEAN</th>\n",
       "      <th>AMT_ANNUITY</th>\n",
       "      <th>DAYS_BIRTH</th>\n",
       "      <th>DAYS_EMPLOYED</th>\n",
       "      <th>NAME_EDUCATION_TYPE_Highereducation</th>\n",
       "      <th>FLAG_OWN_CAR</th>\n",
       "      <th>DAYS_EMPLOYED_PERC</th>\n",
       "      <th>NAME_FAMILY_STATUS_Married</th>\n",
       "    </tr>\n",
       "  </thead>\n",
       "  <tbody>\n",
       "    <tr>\n",
       "      <th>1</th>\n",
       "      <td>0.291656</td>\n",
       "      <td>0.432962</td>\n",
       "      <td>0.56499</td>\n",
       "      <td>0.0</td>\n",
       "      <td>0.077973</td>\n",
       "      <td>0.111111</td>\n",
       "      <td>56161.845</td>\n",
       "      <td>12.0</td>\n",
       "      <td>17370.0</td>\n",
       "      <td>-18064.0</td>\n",
       "      <td>-4469.0</td>\n",
       "      <td>0.0</td>\n",
       "      <td>0.0</td>\n",
       "      <td>0.247398</td>\n",
       "      <td>1.0</td>\n",
       "    </tr>\n",
       "  </tbody>\n",
       "</table>\n",
       "</div>"
      ],
      "text/plain": [
       "   EXT_SOURCE_2  EXT_SOURCE_3  EXT_SOURCE_1  CODE_GENDER  PAYMENT_RATE  \\\n",
       "1      0.291656      0.432962       0.56499          0.0      0.077973   \n",
       "\n",
       "   INSTAL_DPD_MEAN  INSTAL_AMT_PAYMENT_SUM  APPROVED_CNT_PAYMENT_MEAN  \\\n",
       "1         0.111111               56161.845                       12.0   \n",
       "\n",
       "   AMT_ANNUITY  DAYS_BIRTH  DAYS_EMPLOYED  \\\n",
       "1      17370.0    -18064.0        -4469.0   \n",
       "\n",
       "   NAME_EDUCATION_TYPE_Highereducation  FLAG_OWN_CAR  DAYS_EMPLOYED_PERC  \\\n",
       "1                                  0.0           0.0            0.247398   \n",
       "\n",
       "   NAME_FAMILY_STATUS_Married  \n",
       "1                         1.0  "
      ]
     },
     "execution_count": 19,
     "metadata": {},
     "output_type": "execute_result"
    }
   ],
   "source": [
    "data_client"
   ]
  },
  {
   "cell_type": "code",
   "execution_count": 20,
   "id": "d442410b",
   "metadata": {},
   "outputs": [],
   "source": [
    "distances, indices = knn.kneighbors(data_client)"
   ]
  },
  {
   "cell_type": "code",
   "execution_count": 21,
   "id": "bb4a5239",
   "metadata": {},
   "outputs": [],
   "source": [
    "X_train_selected = df_train[interpretable_important_data]"
   ]
  },
  {
   "cell_type": "code",
   "execution_count": 23,
   "id": "6318b88a",
   "metadata": {},
   "outputs": [
    {
     "data": {
      "text/html": [
       "<div>\n",
       "<style scoped>\n",
       "    .dataframe tbody tr th:only-of-type {\n",
       "        vertical-align: middle;\n",
       "    }\n",
       "\n",
       "    .dataframe tbody tr th {\n",
       "        vertical-align: top;\n",
       "    }\n",
       "\n",
       "    .dataframe thead th {\n",
       "        text-align: right;\n",
       "    }\n",
       "</style>\n",
       "<table border=\"1\" class=\"dataframe\">\n",
       "  <thead>\n",
       "    <tr style=\"text-align: right;\">\n",
       "      <th></th>\n",
       "      <th>EXT_SOURCE_2</th>\n",
       "      <th>EXT_SOURCE_3</th>\n",
       "      <th>EXT_SOURCE_1</th>\n",
       "      <th>CODE_GENDER</th>\n",
       "      <th>PAYMENT_RATE</th>\n",
       "      <th>INSTAL_DPD_MEAN</th>\n",
       "      <th>INSTAL_AMT_PAYMENT_SUM</th>\n",
       "      <th>APPROVED_CNT_PAYMENT_MEAN</th>\n",
       "      <th>AMT_ANNUITY</th>\n",
       "      <th>DAYS_BIRTH</th>\n",
       "      <th>DAYS_EMPLOYED</th>\n",
       "      <th>NAME_EDUCATION_TYPE_Highereducation</th>\n",
       "      <th>FLAG_OWN_CAR</th>\n",
       "      <th>DAYS_EMPLOYED_PERC</th>\n",
       "      <th>NAME_FAMILY_STATUS_Married</th>\n",
       "    </tr>\n",
       "  </thead>\n",
       "  <tbody>\n",
       "    <tr>\n",
       "      <th>797</th>\n",
       "      <td>0.296604</td>\n",
       "      <td>0.576209</td>\n",
       "      <td>0.506155</td>\n",
       "      <td>0.0</td>\n",
       "      <td>0.063905</td>\n",
       "      <td>0.000000</td>\n",
       "      <td>1.475254e+07</td>\n",
       "      <td>7.750000</td>\n",
       "      <td>16276.5</td>\n",
       "      <td>-10582.0</td>\n",
       "      <td>-2136.0</td>\n",
       "      <td>1.0</td>\n",
       "      <td>0.0</td>\n",
       "      <td>0.201852</td>\n",
       "      <td>1.0</td>\n",
       "    </tr>\n",
       "    <tr>\n",
       "      <th>610</th>\n",
       "      <td>0.743420</td>\n",
       "      <td>0.793449</td>\n",
       "      <td>0.506155</td>\n",
       "      <td>1.0</td>\n",
       "      <td>0.036183</td>\n",
       "      <td>0.083916</td>\n",
       "      <td>7.850664e+06</td>\n",
       "      <td>34.285714</td>\n",
       "      <td>17946.0</td>\n",
       "      <td>-20648.0</td>\n",
       "      <td>-1663.0</td>\n",
       "      <td>1.0</td>\n",
       "      <td>0.0</td>\n",
       "      <td>0.120073</td>\n",
       "      <td>1.0</td>\n",
       "    </tr>\n",
       "    <tr>\n",
       "      <th>678</th>\n",
       "      <td>0.623843</td>\n",
       "      <td>0.533482</td>\n",
       "      <td>0.506155</td>\n",
       "      <td>1.0</td>\n",
       "      <td>0.039348</td>\n",
       "      <td>2.307054</td>\n",
       "      <td>5.118057e+06</td>\n",
       "      <td>29.454545</td>\n",
       "      <td>74191.5</td>\n",
       "      <td>-22181.0</td>\n",
       "      <td>-1663.0</td>\n",
       "      <td>0.0</td>\n",
       "      <td>0.0</td>\n",
       "      <td>0.120073</td>\n",
       "      <td>1.0</td>\n",
       "    </tr>\n",
       "    <tr>\n",
       "      <th>235</th>\n",
       "      <td>0.126332</td>\n",
       "      <td>0.533482</td>\n",
       "      <td>0.506155</td>\n",
       "      <td>1.0</td>\n",
       "      <td>0.038750</td>\n",
       "      <td>0.540146</td>\n",
       "      <td>4.114708e+06</td>\n",
       "      <td>42.000000</td>\n",
       "      <td>66262.5</td>\n",
       "      <td>-23127.0</td>\n",
       "      <td>-9274.0</td>\n",
       "      <td>0.0</td>\n",
       "      <td>0.0</td>\n",
       "      <td>0.401003</td>\n",
       "      <td>1.0</td>\n",
       "    </tr>\n",
       "    <tr>\n",
       "      <th>284</th>\n",
       "      <td>0.395245</td>\n",
       "      <td>0.533482</td>\n",
       "      <td>0.506155</td>\n",
       "      <td>0.0</td>\n",
       "      <td>0.079321</td>\n",
       "      <td>0.124555</td>\n",
       "      <td>5.223610e+06</td>\n",
       "      <td>27.000000</td>\n",
       "      <td>32341.5</td>\n",
       "      <td>-20317.0</td>\n",
       "      <td>-2334.0</td>\n",
       "      <td>0.0</td>\n",
       "      <td>1.0</td>\n",
       "      <td>0.114879</td>\n",
       "      <td>1.0</td>\n",
       "    </tr>\n",
       "  </tbody>\n",
       "</table>\n",
       "</div>"
      ],
      "text/plain": [
       "     EXT_SOURCE_2  EXT_SOURCE_3  EXT_SOURCE_1  CODE_GENDER  PAYMENT_RATE  \\\n",
       "797      0.296604      0.576209      0.506155          0.0      0.063905   \n",
       "610      0.743420      0.793449      0.506155          1.0      0.036183   \n",
       "678      0.623843      0.533482      0.506155          1.0      0.039348   \n",
       "235      0.126332      0.533482      0.506155          1.0      0.038750   \n",
       "284      0.395245      0.533482      0.506155          0.0      0.079321   \n",
       "\n",
       "     INSTAL_DPD_MEAN  INSTAL_AMT_PAYMENT_SUM  APPROVED_CNT_PAYMENT_MEAN  \\\n",
       "797         0.000000            1.475254e+07                   7.750000   \n",
       "610         0.083916            7.850664e+06                  34.285714   \n",
       "678         2.307054            5.118057e+06                  29.454545   \n",
       "235         0.540146            4.114708e+06                  42.000000   \n",
       "284         0.124555            5.223610e+06                  27.000000   \n",
       "\n",
       "     AMT_ANNUITY  DAYS_BIRTH  DAYS_EMPLOYED  \\\n",
       "797      16276.5    -10582.0        -2136.0   \n",
       "610      17946.0    -20648.0        -1663.0   \n",
       "678      74191.5    -22181.0        -1663.0   \n",
       "235      66262.5    -23127.0        -9274.0   \n",
       "284      32341.5    -20317.0        -2334.0   \n",
       "\n",
       "     NAME_EDUCATION_TYPE_Highereducation  FLAG_OWN_CAR  DAYS_EMPLOYED_PERC  \\\n",
       "797                                  1.0           0.0            0.201852   \n",
       "610                                  1.0           0.0            0.120073   \n",
       "678                                  0.0           0.0            0.120073   \n",
       "235                                  0.0           0.0            0.401003   \n",
       "284                                  0.0           1.0            0.114879   \n",
       "\n",
       "     NAME_FAMILY_STATUS_Married  \n",
       "797                         1.0  \n",
       "610                         1.0  \n",
       "678                         1.0  \n",
       "235                         1.0  \n",
       "284                         1.0  "
      ]
     },
     "execution_count": 23,
     "metadata": {},
     "output_type": "execute_result"
    }
   ],
   "source": [
    "# selections des plus proches voisins\n",
    "df_voisins = X_train_selected.iloc[indices[0], :]\n",
    "df_voisins"
   ]
  },
  {
   "cell_type": "code",
   "execution_count": 25,
   "id": "d4d19d48",
   "metadata": {},
   "outputs": [
    {
     "data": {
      "text/html": [
       "<div>\n",
       "<style scoped>\n",
       "    .dataframe tbody tr th:only-of-type {\n",
       "        vertical-align: middle;\n",
       "    }\n",
       "\n",
       "    .dataframe tbody tr th {\n",
       "        vertical-align: top;\n",
       "    }\n",
       "\n",
       "    .dataframe thead th {\n",
       "        text-align: right;\n",
       "    }\n",
       "</style>\n",
       "<table border=\"1\" class=\"dataframe\">\n",
       "  <thead>\n",
       "    <tr style=\"text-align: right;\">\n",
       "      <th></th>\n",
       "      <th>SK_ID_CURR</th>\n",
       "      <th>AMT_ANNUITY</th>\n",
       "      <th>DAYS_BIRTH</th>\n",
       "      <th>DAYS_EMPLOYED</th>\n",
       "      <th>NAME_EDUCATION_TYPE</th>\n",
       "      <th>OCCUPATION_TYPE</th>\n",
       "    </tr>\n",
       "  </thead>\n",
       "  <tbody>\n",
       "    <tr>\n",
       "      <th>797</th>\n",
       "      <td>100912</td>\n",
       "      <td>16276.5</td>\n",
       "      <td>-10582</td>\n",
       "      <td>-2136</td>\n",
       "      <td>Higher education</td>\n",
       "      <td>Waiters/barmen staff</td>\n",
       "    </tr>\n",
       "    <tr>\n",
       "      <th>610</th>\n",
       "      <td>100697</td>\n",
       "      <td>17946.0</td>\n",
       "      <td>-20648</td>\n",
       "      <td>365243</td>\n",
       "      <td>Higher education</td>\n",
       "      <td>NaN</td>\n",
       "    </tr>\n",
       "    <tr>\n",
       "      <th>678</th>\n",
       "      <td>100784</td>\n",
       "      <td>74191.5</td>\n",
       "      <td>-22181</td>\n",
       "      <td>365243</td>\n",
       "      <td>Secondary / secondary special</td>\n",
       "      <td>NaN</td>\n",
       "    </tr>\n",
       "    <tr>\n",
       "      <th>235</th>\n",
       "      <td>100273</td>\n",
       "      <td>66262.5</td>\n",
       "      <td>-23127</td>\n",
       "      <td>-9274</td>\n",
       "      <td>Secondary / secondary special</td>\n",
       "      <td>Medicine staff</td>\n",
       "    </tr>\n",
       "    <tr>\n",
       "      <th>284</th>\n",
       "      <td>100327</td>\n",
       "      <td>32341.5</td>\n",
       "      <td>-20317</td>\n",
       "      <td>-2334</td>\n",
       "      <td>Secondary / secondary special</td>\n",
       "      <td>NaN</td>\n",
       "    </tr>\n",
       "  </tbody>\n",
       "</table>\n",
       "</div>"
      ],
      "text/plain": [
       "     SK_ID_CURR  AMT_ANNUITY  DAYS_BIRTH  DAYS_EMPLOYED  \\\n",
       "797      100912      16276.5      -10582          -2136   \n",
       "610      100697      17946.0      -20648         365243   \n",
       "678      100784      74191.5      -22181         365243   \n",
       "235      100273      66262.5      -23127          -9274   \n",
       "284      100327      32341.5      -20317          -2334   \n",
       "\n",
       "               NAME_EDUCATION_TYPE       OCCUPATION_TYPE  \n",
       "797               Higher education  Waiters/barmen staff  \n",
       "610               Higher education                   NaN  \n",
       "678  Secondary / secondary special                   NaN  \n",
       "235  Secondary / secondary special        Medicine staff  \n",
       "284  Secondary / secondary special                   NaN  "
      ]
     },
     "execution_count": 25,
     "metadata": {},
     "output_type": "execute_result"
    }
   ],
   "source": [
    "# Selection des colonnes à afficher\n",
    "affichage_colonne = [    \n",
    "                        'SK_ID_CURR',\n",
    "                        'AMT_ANNUITY',\n",
    "                         'DAYS_BIRTH',\n",
    "                         'DAYS_EMPLOYED',\n",
    "                         'NAME_EDUCATION_TYPE',\n",
    "                         'OCCUPATION_TYPE',\n",
    "\n",
    "                     ]\n",
    "df_voisins = app_train.loc[df_voisins.index][affichage_colonne]\n",
    "df_voisins"
   ]
  },
  {
   "cell_type": "code",
   "execution_count": 30,
   "id": "43b3e493",
   "metadata": {},
   "outputs": [],
   "source": [
    "# traitement champ Day employed\n",
    "from datetime import datetime, timedelta\n",
    "from dateutil.relativedelta import relativedelta"
   ]
  },
  {
   "cell_type": "code",
   "execution_count": 31,
   "id": "660b5d6b",
   "metadata": {},
   "outputs": [],
   "source": [
    "def days_to_duration(days):\n",
    "        now = datetime.now()\n",
    "        target_date = now + timedelta(days=days)\n",
    "        delta = relativedelta(target_date, now)\n",
    "        return f\"{abs(delta.years)}y {abs(delta.months)}m {abs(delta.days)}d\""
   ]
  },
  {
   "cell_type": "code",
   "execution_count": 33,
   "id": "6bf55dbb",
   "metadata": {},
   "outputs": [
    {
     "ename": "ValueError",
     "evalue": "cannot convert float NaN to integer",
     "output_type": "error",
     "traceback": [
      "\u001b[0;31m---------------------------------------------------------------------------\u001b[0m",
      "\u001b[0;31mValueError\u001b[0m                                Traceback (most recent call last)",
      "Cell \u001b[0;32mIn[33], line 4\u001b[0m\n\u001b[1;32m      1\u001b[0m \u001b[38;5;66;03m# Convertir les valeurs de la colonne 'DAYS_EMPLOYED' en nombres\u001b[39;00m\n\u001b[1;32m      2\u001b[0m df_voisins[\u001b[38;5;124m'\u001b[39m\u001b[38;5;124mDAYS_EMPLOYED\u001b[39m\u001b[38;5;124m'\u001b[39m] \u001b[38;5;241m=\u001b[39m pd\u001b[38;5;241m.\u001b[39mto_numeric(df_voisins[\u001b[38;5;124m'\u001b[39m\u001b[38;5;124mDAYS_EMPLOYED\u001b[39m\u001b[38;5;124m'\u001b[39m], errors\u001b[38;5;241m=\u001b[39m\u001b[38;5;124m'\u001b[39m\u001b[38;5;124mcoerce\u001b[39m\u001b[38;5;124m'\u001b[39m)\n\u001b[0;32m----> 4\u001b[0m df_voisins[\u001b[38;5;124m'\u001b[39m\u001b[38;5;124mDAYS_EMPLOYED\u001b[39m\u001b[38;5;124m'\u001b[39m] \u001b[38;5;241m=\u001b[39m \u001b[43mdf_voisins\u001b[49m\u001b[43m[\u001b[49m\u001b[38;5;124;43m'\u001b[39;49m\u001b[38;5;124;43mDAYS_EMPLOYED\u001b[39;49m\u001b[38;5;124;43m'\u001b[39;49m\u001b[43m]\u001b[49m\u001b[38;5;241;43m.\u001b[39;49m\u001b[43mapply\u001b[49m\u001b[43m(\u001b[49m\u001b[43mdays_to_duration\u001b[49m\u001b[43m)\u001b[49m\n\u001b[1;32m      5\u001b[0m \u001b[38;5;66;03m# traitement de Day birth\u001b[39;00m\n\u001b[1;32m      6\u001b[0m df_voisins[\u001b[38;5;124m'\u001b[39m\u001b[38;5;124mDAYS_BIRTH\u001b[39m\u001b[38;5;124m'\u001b[39m] \u001b[38;5;241m=\u001b[39m df_voisins[\u001b[38;5;124m'\u001b[39m\u001b[38;5;124mDAYS_BIRTH\u001b[39m\u001b[38;5;124m'\u001b[39m]\u001b[38;5;241m.\u001b[39mapply(\u001b[38;5;28;01mlambda\u001b[39;00m x: \u001b[38;5;28mint\u001b[39m(x \u001b[38;5;241m/\u001b[39m \u001b[38;5;241m-\u001b[39m\u001b[38;5;241m365\u001b[39m))\n",
      "File \u001b[0;32m~/anaconda3/lib/python3.10/site-packages/pandas/core/series.py:4771\u001b[0m, in \u001b[0;36mSeries.apply\u001b[0;34m(self, func, convert_dtype, args, **kwargs)\u001b[0m\n\u001b[1;32m   4661\u001b[0m \u001b[38;5;28;01mdef\u001b[39;00m \u001b[38;5;21mapply\u001b[39m(\n\u001b[1;32m   4662\u001b[0m     \u001b[38;5;28mself\u001b[39m,\n\u001b[1;32m   4663\u001b[0m     func: AggFuncType,\n\u001b[0;32m   (...)\u001b[0m\n\u001b[1;32m   4666\u001b[0m     \u001b[38;5;241m*\u001b[39m\u001b[38;5;241m*\u001b[39mkwargs,\n\u001b[1;32m   4667\u001b[0m ) \u001b[38;5;241m-\u001b[39m\u001b[38;5;241m>\u001b[39m DataFrame \u001b[38;5;241m|\u001b[39m Series:\n\u001b[1;32m   4668\u001b[0m     \u001b[38;5;124;03m\"\"\"\u001b[39;00m\n\u001b[1;32m   4669\u001b[0m \u001b[38;5;124;03m    Invoke function on values of Series.\u001b[39;00m\n\u001b[1;32m   4670\u001b[0m \n\u001b[0;32m   (...)\u001b[0m\n\u001b[1;32m   4769\u001b[0m \u001b[38;5;124;03m    dtype: float64\u001b[39;00m\n\u001b[1;32m   4770\u001b[0m \u001b[38;5;124;03m    \"\"\"\u001b[39;00m\n\u001b[0;32m-> 4771\u001b[0m     \u001b[38;5;28;01mreturn\u001b[39;00m \u001b[43mSeriesApply\u001b[49m\u001b[43m(\u001b[49m\u001b[38;5;28;43mself\u001b[39;49m\u001b[43m,\u001b[49m\u001b[43m \u001b[49m\u001b[43mfunc\u001b[49m\u001b[43m,\u001b[49m\u001b[43m \u001b[49m\u001b[43mconvert_dtype\u001b[49m\u001b[43m,\u001b[49m\u001b[43m \u001b[49m\u001b[43margs\u001b[49m\u001b[43m,\u001b[49m\u001b[43m \u001b[49m\u001b[43mkwargs\u001b[49m\u001b[43m)\u001b[49m\u001b[38;5;241;43m.\u001b[39;49m\u001b[43mapply\u001b[49m\u001b[43m(\u001b[49m\u001b[43m)\u001b[49m\n",
      "File \u001b[0;32m~/anaconda3/lib/python3.10/site-packages/pandas/core/apply.py:1123\u001b[0m, in \u001b[0;36mSeriesApply.apply\u001b[0;34m(self)\u001b[0m\n\u001b[1;32m   1120\u001b[0m     \u001b[38;5;28;01mreturn\u001b[39;00m \u001b[38;5;28mself\u001b[39m\u001b[38;5;241m.\u001b[39mapply_str()\n\u001b[1;32m   1122\u001b[0m \u001b[38;5;66;03m# self.f is Callable\u001b[39;00m\n\u001b[0;32m-> 1123\u001b[0m \u001b[38;5;28;01mreturn\u001b[39;00m \u001b[38;5;28;43mself\u001b[39;49m\u001b[38;5;241;43m.\u001b[39;49m\u001b[43mapply_standard\u001b[49m\u001b[43m(\u001b[49m\u001b[43m)\u001b[49m\n",
      "File \u001b[0;32m~/anaconda3/lib/python3.10/site-packages/pandas/core/apply.py:1174\u001b[0m, in \u001b[0;36mSeriesApply.apply_standard\u001b[0;34m(self)\u001b[0m\n\u001b[1;32m   1172\u001b[0m     \u001b[38;5;28;01melse\u001b[39;00m:\n\u001b[1;32m   1173\u001b[0m         values \u001b[38;5;241m=\u001b[39m obj\u001b[38;5;241m.\u001b[39mastype(\u001b[38;5;28mobject\u001b[39m)\u001b[38;5;241m.\u001b[39m_values\n\u001b[0;32m-> 1174\u001b[0m         mapped \u001b[38;5;241m=\u001b[39m \u001b[43mlib\u001b[49m\u001b[38;5;241;43m.\u001b[39;49m\u001b[43mmap_infer\u001b[49m\u001b[43m(\u001b[49m\n\u001b[1;32m   1175\u001b[0m \u001b[43m            \u001b[49m\u001b[43mvalues\u001b[49m\u001b[43m,\u001b[49m\n\u001b[1;32m   1176\u001b[0m \u001b[43m            \u001b[49m\u001b[43mf\u001b[49m\u001b[43m,\u001b[49m\n\u001b[1;32m   1177\u001b[0m \u001b[43m            \u001b[49m\u001b[43mconvert\u001b[49m\u001b[38;5;241;43m=\u001b[39;49m\u001b[38;5;28;43mself\u001b[39;49m\u001b[38;5;241;43m.\u001b[39;49m\u001b[43mconvert_dtype\u001b[49m\u001b[43m,\u001b[49m\n\u001b[1;32m   1178\u001b[0m \u001b[43m        \u001b[49m\u001b[43m)\u001b[49m\n\u001b[1;32m   1180\u001b[0m \u001b[38;5;28;01mif\u001b[39;00m \u001b[38;5;28mlen\u001b[39m(mapped) \u001b[38;5;129;01mand\u001b[39;00m \u001b[38;5;28misinstance\u001b[39m(mapped[\u001b[38;5;241m0\u001b[39m], ABCSeries):\n\u001b[1;32m   1181\u001b[0m     \u001b[38;5;66;03m# GH#43986 Need to do list(mapped) in order to get treated as nested\u001b[39;00m\n\u001b[1;32m   1182\u001b[0m     \u001b[38;5;66;03m#  See also GH#25959 regarding EA support\u001b[39;00m\n\u001b[1;32m   1183\u001b[0m     \u001b[38;5;28;01mreturn\u001b[39;00m obj\u001b[38;5;241m.\u001b[39m_constructor_expanddim(\u001b[38;5;28mlist\u001b[39m(mapped), index\u001b[38;5;241m=\u001b[39mobj\u001b[38;5;241m.\u001b[39mindex)\n",
      "File \u001b[0;32m~/anaconda3/lib/python3.10/site-packages/pandas/_libs/lib.pyx:2924\u001b[0m, in \u001b[0;36mpandas._libs.lib.map_infer\u001b[0;34m()\u001b[0m\n",
      "Cell \u001b[0;32mIn[31], line 3\u001b[0m, in \u001b[0;36mdays_to_duration\u001b[0;34m(days)\u001b[0m\n\u001b[1;32m      1\u001b[0m \u001b[38;5;28;01mdef\u001b[39;00m \u001b[38;5;21mdays_to_duration\u001b[39m(days):\n\u001b[1;32m      2\u001b[0m         now \u001b[38;5;241m=\u001b[39m datetime\u001b[38;5;241m.\u001b[39mnow()\n\u001b[0;32m----> 3\u001b[0m         target_date \u001b[38;5;241m=\u001b[39m now \u001b[38;5;241m+\u001b[39m \u001b[43mtimedelta\u001b[49m\u001b[43m(\u001b[49m\u001b[43mdays\u001b[49m\u001b[38;5;241;43m=\u001b[39;49m\u001b[43mdays\u001b[49m\u001b[43m)\u001b[49m\n\u001b[1;32m      4\u001b[0m         delta \u001b[38;5;241m=\u001b[39m relativedelta(target_date, now)\n\u001b[1;32m      5\u001b[0m         \u001b[38;5;28;01mreturn\u001b[39;00m \u001b[38;5;124mf\u001b[39m\u001b[38;5;124m\"\u001b[39m\u001b[38;5;132;01m{\u001b[39;00m\u001b[38;5;28mabs\u001b[39m(delta\u001b[38;5;241m.\u001b[39myears)\u001b[38;5;132;01m}\u001b[39;00m\u001b[38;5;124my \u001b[39m\u001b[38;5;132;01m{\u001b[39;00m\u001b[38;5;28mabs\u001b[39m(delta\u001b[38;5;241m.\u001b[39mmonths)\u001b[38;5;132;01m}\u001b[39;00m\u001b[38;5;124mm \u001b[39m\u001b[38;5;132;01m{\u001b[39;00m\u001b[38;5;28mabs\u001b[39m(delta\u001b[38;5;241m.\u001b[39mdays)\u001b[38;5;132;01m}\u001b[39;00m\u001b[38;5;124md\u001b[39m\u001b[38;5;124m\"\u001b[39m\n",
      "\u001b[0;31mValueError\u001b[0m: cannot convert float NaN to integer"
     ]
    }
   ],
   "source": [
    "# Convertir les valeurs de la colonne 'DAYS_EMPLOYED' en nombres\n",
    "df_voisins['DAYS_EMPLOYED'] = pd.to_numeric(df_voisins['DAYS_EMPLOYED'], errors='coerce')\n",
    "\n",
    "df_voisins['DAYS_EMPLOYED'] = df_voisins['DAYS_EMPLOYED'].apply(days_to_duration)\n",
    "# traitement de Day birth\n",
    "df_voisins['DAYS_BIRTH'] = df_voisins['DAYS_BIRTH'].apply(lambda x: int(x / -365))\n",
    "df_voisins"
   ]
  },
  {
   "cell_type": "code",
   "execution_count": null,
   "id": "8c3c4535",
   "metadata": {},
   "outputs": [],
   "source": []
  },
  {
   "cell_type": "code",
   "execution_count": null,
   "id": "90e4ef68",
   "metadata": {},
   "outputs": [],
   "source": []
  },
  {
   "cell_type": "code",
   "execution_count": null,
   "id": "fbcbc633",
   "metadata": {},
   "outputs": [],
   "source": []
  },
  {
   "cell_type": "code",
   "execution_count": null,
   "id": "0e84bab8",
   "metadata": {},
   "outputs": [],
   "source": []
  },
  {
   "cell_type": "code",
   "execution_count": 23,
   "id": "e51cda47",
   "metadata": {},
   "outputs": [],
   "source": [
    "# id = request.args.get(\"id_client\")\n",
    "id = 100005\n",
    "interpretable_important_data = ['EXT_SOURCE_2',\n",
    " 'EXT_SOURCE_3',\n",
    " 'EXT_SOURCE_1',\n",
    " 'CODE_GENDER',\n",
    " 'PAYMENT_RATE',\n",
    " 'INSTAL_DPD_MEAN',\n",
    " 'INSTAL_AMT_PAYMENT_SUM',\n",
    " 'APPROVED_CNT_PAYMENT_MEAN',\n",
    " 'AMT_ANNUITY',\n",
    " 'DAYS_BIRTH',\n",
    " 'DAYS_EMPLOYED',\n",
    " 'NAME_EDUCATION_TYPE_Highereducation',\n",
    " 'FLAG_OWN_CAR',\n",
    " 'DAYS_EMPLOYED_PERC',\n",
    " 'NAME_FAMILY_STATUS_Married']"
   ]
  },
  {
   "cell_type": "code",
   "execution_count": 24,
   "id": "f44ab116",
   "metadata": {},
   "outputs": [
    {
     "data": {
      "text/plain": [
       "(48744, 797)"
      ]
     },
     "execution_count": 24,
     "metadata": {},
     "output_type": "execute_result"
    }
   ],
   "source": [
    "path = \"data/pickle/\"\n",
    "X_test = pickle.load(open(path + 'X_test.pickle', 'rb'))\n",
    "X_test.shape"
   ]
  },
  {
   "cell_type": "code",
   "execution_count": 25,
   "id": "441ba9b2",
   "metadata": {},
   "outputs": [
    {
     "data": {
      "text/html": [
       "<style>#sk-container-id-3 {color: black;background-color: white;}#sk-container-id-3 pre{padding: 0;}#sk-container-id-3 div.sk-toggleable {background-color: white;}#sk-container-id-3 label.sk-toggleable__label {cursor: pointer;display: block;width: 100%;margin-bottom: 0;padding: 0.3em;box-sizing: border-box;text-align: center;}#sk-container-id-3 label.sk-toggleable__label-arrow:before {content: \"▸\";float: left;margin-right: 0.25em;color: #696969;}#sk-container-id-3 label.sk-toggleable__label-arrow:hover:before {color: black;}#sk-container-id-3 div.sk-estimator:hover label.sk-toggleable__label-arrow:before {color: black;}#sk-container-id-3 div.sk-toggleable__content {max-height: 0;max-width: 0;overflow: hidden;text-align: left;background-color: #f0f8ff;}#sk-container-id-3 div.sk-toggleable__content pre {margin: 0.2em;color: black;border-radius: 0.25em;background-color: #f0f8ff;}#sk-container-id-3 input.sk-toggleable__control:checked~div.sk-toggleable__content {max-height: 200px;max-width: 100%;overflow: auto;}#sk-container-id-3 input.sk-toggleable__control:checked~label.sk-toggleable__label-arrow:before {content: \"▾\";}#sk-container-id-3 div.sk-estimator input.sk-toggleable__control:checked~label.sk-toggleable__label {background-color: #d4ebff;}#sk-container-id-3 div.sk-label input.sk-toggleable__control:checked~label.sk-toggleable__label {background-color: #d4ebff;}#sk-container-id-3 input.sk-hidden--visually {border: 0;clip: rect(1px 1px 1px 1px);clip: rect(1px, 1px, 1px, 1px);height: 1px;margin: -1px;overflow: hidden;padding: 0;position: absolute;width: 1px;}#sk-container-id-3 div.sk-estimator {font-family: monospace;background-color: #f0f8ff;border: 1px dotted black;border-radius: 0.25em;box-sizing: border-box;margin-bottom: 0.5em;}#sk-container-id-3 div.sk-estimator:hover {background-color: #d4ebff;}#sk-container-id-3 div.sk-parallel-item::after {content: \"\";width: 100%;border-bottom: 1px solid gray;flex-grow: 1;}#sk-container-id-3 div.sk-label:hover label.sk-toggleable__label {background-color: #d4ebff;}#sk-container-id-3 div.sk-serial::before {content: \"\";position: absolute;border-left: 1px solid gray;box-sizing: border-box;top: 0;bottom: 0;left: 50%;z-index: 0;}#sk-container-id-3 div.sk-serial {display: flex;flex-direction: column;align-items: center;background-color: white;padding-right: 0.2em;padding-left: 0.2em;position: relative;}#sk-container-id-3 div.sk-item {position: relative;z-index: 1;}#sk-container-id-3 div.sk-parallel {display: flex;align-items: stretch;justify-content: center;background-color: white;position: relative;}#sk-container-id-3 div.sk-item::before, #sk-container-id-3 div.sk-parallel-item::before {content: \"\";position: absolute;border-left: 1px solid gray;box-sizing: border-box;top: 0;bottom: 0;left: 50%;z-index: -1;}#sk-container-id-3 div.sk-parallel-item {display: flex;flex-direction: column;z-index: 1;position: relative;background-color: white;}#sk-container-id-3 div.sk-parallel-item:first-child::after {align-self: flex-end;width: 50%;}#sk-container-id-3 div.sk-parallel-item:last-child::after {align-self: flex-start;width: 50%;}#sk-container-id-3 div.sk-parallel-item:only-child::after {width: 0;}#sk-container-id-3 div.sk-dashed-wrapped {border: 1px dashed gray;margin: 0 0.4em 0.5em 0.4em;box-sizing: border-box;padding-bottom: 0.4em;background-color: white;}#sk-container-id-3 div.sk-label label {font-family: monospace;font-weight: bold;display: inline-block;line-height: 1.2em;}#sk-container-id-3 div.sk-label-container {text-align: center;}#sk-container-id-3 div.sk-container {/* jupyter's `normalize.less` sets `[hidden] { display: none; }` but bootstrap.min.css set `[hidden] { display: none !important; }` so we also need the `!important` here to be able to override the default hidden behavior on the sphinx rendered scikit-learn.org. See: https://github.com/scikit-learn/scikit-learn/issues/21755 */display: inline-block !important;position: relative;}#sk-container-id-3 div.sk-text-repr-fallback {display: none;}</style><div id=\"sk-container-id-3\" class=\"sk-top-container\"><div class=\"sk-text-repr-fallback\"><pre>NearestNeighbors()</pre><b>In a Jupyter environment, please rerun this cell to show the HTML representation or trust the notebook. <br />On GitHub, the HTML representation is unable to render, please try loading this page with nbviewer.org.</b></div><div class=\"sk-container\" hidden><div class=\"sk-item\"><div class=\"sk-estimator sk-toggleable\"><input class=\"sk-toggleable__control sk-hidden--visually\" id=\"sk-estimator-id-3\" type=\"checkbox\" checked><label for=\"sk-estimator-id-3\" class=\"sk-toggleable__label sk-toggleable__label-arrow\">NearestNeighbors</label><div class=\"sk-toggleable__content\"><pre>NearestNeighbors()</pre></div></div></div></div></div>"
      ],
      "text/plain": [
       "NearestNeighbors()"
      ]
     },
     "execution_count": 25,
     "metadata": {},
     "output_type": "execute_result"
    }
   ],
   "source": [
    "knn = pickle.load(open(path + 'knn.pickle', 'rb'))\n",
    "knn"
   ]
  },
  {
   "cell_type": "code",
   "execution_count": 29,
   "id": "cb43c75d",
   "metadata": {},
   "outputs": [
    {
     "data": {
      "text/html": [
       "<div>\n",
       "<style scoped>\n",
       "    .dataframe tbody tr th:only-of-type {\n",
       "        vertical-align: middle;\n",
       "    }\n",
       "\n",
       "    .dataframe tbody tr th {\n",
       "        vertical-align: top;\n",
       "    }\n",
       "\n",
       "    .dataframe thead th {\n",
       "        text-align: right;\n",
       "    }\n",
       "</style>\n",
       "<table border=\"1\" class=\"dataframe\">\n",
       "  <thead>\n",
       "    <tr style=\"text-align: right;\">\n",
       "      <th></th>\n",
       "      <th>EXT_SOURCE_2</th>\n",
       "      <th>EXT_SOURCE_3</th>\n",
       "      <th>EXT_SOURCE_1</th>\n",
       "      <th>CODE_GENDER</th>\n",
       "      <th>PAYMENT_RATE</th>\n",
       "      <th>INSTAL_DPD_MEAN</th>\n",
       "      <th>INSTAL_AMT_PAYMENT_SUM</th>\n",
       "      <th>APPROVED_CNT_PAYMENT_MEAN</th>\n",
       "      <th>AMT_ANNUITY</th>\n",
       "      <th>DAYS_BIRTH</th>\n",
       "      <th>DAYS_EMPLOYED</th>\n",
       "      <th>NAME_EDUCATION_TYPE_Highereducation</th>\n",
       "      <th>FLAG_OWN_CAR</th>\n",
       "      <th>DAYS_EMPLOYED_PERC</th>\n",
       "      <th>NAME_FAMILY_STATUS_Married</th>\n",
       "    </tr>\n",
       "  </thead>\n",
       "  <tbody>\n",
       "    <tr>\n",
       "      <th>1</th>\n",
       "      <td>0.291656</td>\n",
       "      <td>0.432962</td>\n",
       "      <td>0.56499</td>\n",
       "      <td>0.0</td>\n",
       "      <td>0.077973</td>\n",
       "      <td>0.111111</td>\n",
       "      <td>56161.845</td>\n",
       "      <td>12.0</td>\n",
       "      <td>17370.0</td>\n",
       "      <td>-18064.0</td>\n",
       "      <td>-4469.0</td>\n",
       "      <td>0.0</td>\n",
       "      <td>0.0</td>\n",
       "      <td>0.247398</td>\n",
       "      <td>1.0</td>\n",
       "    </tr>\n",
       "  </tbody>\n",
       "</table>\n",
       "</div>"
      ],
      "text/plain": [
       "   EXT_SOURCE_2  EXT_SOURCE_3  EXT_SOURCE_1  CODE_GENDER  PAYMENT_RATE  \\\n",
       "1      0.291656      0.432962       0.56499          0.0      0.077973   \n",
       "\n",
       "   INSTAL_DPD_MEAN  INSTAL_AMT_PAYMENT_SUM  APPROVED_CNT_PAYMENT_MEAN  \\\n",
       "1         0.111111               56161.845                       12.0   \n",
       "\n",
       "   AMT_ANNUITY  DAYS_BIRTH  DAYS_EMPLOYED  \\\n",
       "1      17370.0    -18064.0        -4469.0   \n",
       "\n",
       "   NAME_EDUCATION_TYPE_Highereducation  FLAG_OWN_CAR  DAYS_EMPLOYED_PERC  \\\n",
       "1                                  0.0           0.0            0.247398   \n",
       "\n",
       "   NAME_FAMILY_STATUS_Married  \n",
       "1                         1.0  "
      ]
     },
     "execution_count": 29,
     "metadata": {},
     "output_type": "execute_result"
    }
   ],
   "source": [
    "# Selction du client\n",
    "data_client = X_test[X_test[\"SK_ID_CURR\"] == int(id)][interpretable_important_data]\n",
    "data_client"
   ]
  },
  {
   "cell_type": "code",
   "execution_count": 30,
   "id": "b20ba3ab",
   "metadata": {},
   "outputs": [],
   "source": [
    "# Knn sur le client\n",
    "distances, indices = knn.kneighbors(data_client)"
   ]
  },
  {
   "cell_type": "code",
   "execution_count": 31,
   "id": "99d41841",
   "metadata": {},
   "outputs": [],
   "source": [
    "X_train_selected = X_train[interpretable_important_data] "
   ]
  },
  {
   "cell_type": "code",
   "execution_count": 32,
   "id": "a5bfda60",
   "metadata": {},
   "outputs": [
    {
     "data": {
      "text/html": [
       "<div>\n",
       "<style scoped>\n",
       "    .dataframe tbody tr th:only-of-type {\n",
       "        vertical-align: middle;\n",
       "    }\n",
       "\n",
       "    .dataframe tbody tr th {\n",
       "        vertical-align: top;\n",
       "    }\n",
       "\n",
       "    .dataframe thead th {\n",
       "        text-align: right;\n",
       "    }\n",
       "</style>\n",
       "<table border=\"1\" class=\"dataframe\">\n",
       "  <thead>\n",
       "    <tr style=\"text-align: right;\">\n",
       "      <th></th>\n",
       "      <th>EXT_SOURCE_2</th>\n",
       "      <th>EXT_SOURCE_3</th>\n",
       "      <th>EXT_SOURCE_1</th>\n",
       "      <th>CODE_GENDER</th>\n",
       "      <th>PAYMENT_RATE</th>\n",
       "      <th>INSTAL_DPD_MEAN</th>\n",
       "      <th>INSTAL_AMT_PAYMENT_SUM</th>\n",
       "      <th>APPROVED_CNT_PAYMENT_MEAN</th>\n",
       "      <th>AMT_ANNUITY</th>\n",
       "      <th>DAYS_BIRTH</th>\n",
       "      <th>DAYS_EMPLOYED</th>\n",
       "      <th>NAME_EDUCATION_TYPE_Highereducation</th>\n",
       "      <th>FLAG_OWN_CAR</th>\n",
       "      <th>DAYS_EMPLOYED_PERC</th>\n",
       "      <th>NAME_FAMILY_STATUS_Married</th>\n",
       "    </tr>\n",
       "  </thead>\n",
       "  <tbody>\n",
       "    <tr>\n",
       "      <th>242922</th>\n",
       "      <td>0.625658</td>\n",
       "      <td>0.468660</td>\n",
       "      <td>0.506155</td>\n",
       "      <td>0.0</td>\n",
       "      <td>0.029341</td>\n",
       "      <td>0.202532</td>\n",
       "      <td>2.553705e+07</td>\n",
       "      <td>20.500000</td>\n",
       "      <td>36864.0</td>\n",
       "      <td>-19044.0</td>\n",
       "      <td>-2751.0</td>\n",
       "      <td>1.0</td>\n",
       "      <td>0.0</td>\n",
       "      <td>0.144455</td>\n",
       "      <td>0.0</td>\n",
       "    </tr>\n",
       "    <tr>\n",
       "      <th>214385</th>\n",
       "      <td>0.724546</td>\n",
       "      <td>0.586740</td>\n",
       "      <td>0.350850</td>\n",
       "      <td>0.0</td>\n",
       "      <td>0.063964</td>\n",
       "      <td>0.072664</td>\n",
       "      <td>1.678127e+07</td>\n",
       "      <td>25.500000</td>\n",
       "      <td>40297.5</td>\n",
       "      <td>-16471.0</td>\n",
       "      <td>-1179.0</td>\n",
       "      <td>1.0</td>\n",
       "      <td>1.0</td>\n",
       "      <td>0.071580</td>\n",
       "      <td>1.0</td>\n",
       "    </tr>\n",
       "    <tr>\n",
       "      <th>296927</th>\n",
       "      <td>0.725592</td>\n",
       "      <td>0.438281</td>\n",
       "      <td>0.506155</td>\n",
       "      <td>0.0</td>\n",
       "      <td>0.040856</td>\n",
       "      <td>0.000000</td>\n",
       "      <td>1.582449e+07</td>\n",
       "      <td>0.000000</td>\n",
       "      <td>41139.0</td>\n",
       "      <td>-15487.0</td>\n",
       "      <td>-2952.0</td>\n",
       "      <td>0.0</td>\n",
       "      <td>1.0</td>\n",
       "      <td>0.190611</td>\n",
       "      <td>1.0</td>\n",
       "    </tr>\n",
       "    <tr>\n",
       "      <th>278292</th>\n",
       "      <td>0.640962</td>\n",
       "      <td>0.533482</td>\n",
       "      <td>0.506155</td>\n",
       "      <td>0.0</td>\n",
       "      <td>0.025278</td>\n",
       "      <td>0.127796</td>\n",
       "      <td>1.440273e+07</td>\n",
       "      <td>19.777778</td>\n",
       "      <td>67932.0</td>\n",
       "      <td>-16557.0</td>\n",
       "      <td>-1927.0</td>\n",
       "      <td>0.0</td>\n",
       "      <td>1.0</td>\n",
       "      <td>0.116386</td>\n",
       "      <td>1.0</td>\n",
       "    </tr>\n",
       "    <tr>\n",
       "      <th>797</th>\n",
       "      <td>0.296604</td>\n",
       "      <td>0.576209</td>\n",
       "      <td>0.506155</td>\n",
       "      <td>0.0</td>\n",
       "      <td>0.063905</td>\n",
       "      <td>0.000000</td>\n",
       "      <td>1.475254e+07</td>\n",
       "      <td>7.750000</td>\n",
       "      <td>16276.5</td>\n",
       "      <td>-10582.0</td>\n",
       "      <td>-2136.0</td>\n",
       "      <td>1.0</td>\n",
       "      <td>0.0</td>\n",
       "      <td>0.201852</td>\n",
       "      <td>1.0</td>\n",
       "    </tr>\n",
       "  </tbody>\n",
       "</table>\n",
       "</div>"
      ],
      "text/plain": [
       "        EXT_SOURCE_2  EXT_SOURCE_3  EXT_SOURCE_1  CODE_GENDER  PAYMENT_RATE  \\\n",
       "242922      0.625658      0.468660      0.506155          0.0      0.029341   \n",
       "214385      0.724546      0.586740      0.350850          0.0      0.063964   \n",
       "296927      0.725592      0.438281      0.506155          0.0      0.040856   \n",
       "278292      0.640962      0.533482      0.506155          0.0      0.025278   \n",
       "797         0.296604      0.576209      0.506155          0.0      0.063905   \n",
       "\n",
       "        INSTAL_DPD_MEAN  INSTAL_AMT_PAYMENT_SUM  APPROVED_CNT_PAYMENT_MEAN  \\\n",
       "242922         0.202532            2.553705e+07                  20.500000   \n",
       "214385         0.072664            1.678127e+07                  25.500000   \n",
       "296927         0.000000            1.582449e+07                   0.000000   \n",
       "278292         0.127796            1.440273e+07                  19.777778   \n",
       "797            0.000000            1.475254e+07                   7.750000   \n",
       "\n",
       "        AMT_ANNUITY  DAYS_BIRTH  DAYS_EMPLOYED  \\\n",
       "242922      36864.0    -19044.0        -2751.0   \n",
       "214385      40297.5    -16471.0        -1179.0   \n",
       "296927      41139.0    -15487.0        -2952.0   \n",
       "278292      67932.0    -16557.0        -1927.0   \n",
       "797         16276.5    -10582.0        -2136.0   \n",
       "\n",
       "        NAME_EDUCATION_TYPE_Highereducation  FLAG_OWN_CAR  DAYS_EMPLOYED_PERC  \\\n",
       "242922                                  1.0           0.0            0.144455   \n",
       "214385                                  1.0           1.0            0.071580   \n",
       "296927                                  0.0           1.0            0.190611   \n",
       "278292                                  0.0           1.0            0.116386   \n",
       "797                                     1.0           0.0            0.201852   \n",
       "\n",
       "        NAME_FAMILY_STATUS_Married  \n",
       "242922                         0.0  \n",
       "214385                         1.0  \n",
       "296927                         1.0  \n",
       "278292                         1.0  \n",
       "797                            1.0  "
      ]
     },
     "execution_count": 32,
     "metadata": {},
     "output_type": "execute_result"
    }
   ],
   "source": [
    "# Affichage des plus proche voisins\n",
    "df_voisins = X_train_selected.iloc[indices[0], :]\n",
    "df_voisins"
   ]
  },
  {
   "cell_type": "code",
   "execution_count": 33,
   "id": "d5905c34",
   "metadata": {},
   "outputs": [
    {
     "data": {
      "text/plain": [
       "Int64Index([242922, 214385, 296927, 278292, 797], dtype='int64')"
      ]
     },
     "execution_count": 33,
     "metadata": {},
     "output_type": "execute_result"
    }
   ],
   "source": [
    "df_voisins.index"
   ]
  },
  {
   "cell_type": "code",
   "execution_count": 59,
   "id": "893a2418",
   "metadata": {},
   "outputs": [],
   "source": [
    "# Selection des colonnes à afficher\n",
    "affichage_colonne = [    \n",
    "                        'SK_ID_CURR',\n",
    "                        'AMT_ANNUITY',\n",
    "                         'DAYS_BIRTH',\n",
    "                         'DAYS_EMPLOYED',\n",
    "                         'NAME_EDUCATION_TYPE',\n",
    "                         'OCCUPATION_TYPE',\n",
    "                            \n",
    "                     ]"
   ]
  },
  {
   "cell_type": "code",
   "execution_count": 62,
   "id": "b40af3c1",
   "metadata": {},
   "outputs": [
    {
     "data": {
      "text/html": [
       "<div>\n",
       "<style scoped>\n",
       "    .dataframe tbody tr th:only-of-type {\n",
       "        vertical-align: middle;\n",
       "    }\n",
       "\n",
       "    .dataframe tbody tr th {\n",
       "        vertical-align: top;\n",
       "    }\n",
       "\n",
       "    .dataframe thead th {\n",
       "        text-align: right;\n",
       "    }\n",
       "</style>\n",
       "<table border=\"1\" class=\"dataframe\">\n",
       "  <thead>\n",
       "    <tr style=\"text-align: right;\">\n",
       "      <th></th>\n",
       "      <th>SK_ID_CURR</th>\n",
       "      <th>AMT_ANNUITY</th>\n",
       "      <th>DAYS_BIRTH</th>\n",
       "      <th>DAYS_EMPLOYED</th>\n",
       "      <th>NAME_EDUCATION_TYPE</th>\n",
       "      <th>OCCUPATION_TYPE</th>\n",
       "    </tr>\n",
       "  </thead>\n",
       "  <tbody>\n",
       "    <tr>\n",
       "      <th>265022</th>\n",
       "      <td>406897</td>\n",
       "      <td>30406.5</td>\n",
       "      <td>-11322</td>\n",
       "      <td>-489</td>\n",
       "      <td>Secondary / secondary special</td>\n",
       "      <td>Sales staff</td>\n",
       "    </tr>\n",
       "    <tr>\n",
       "      <th>15501</th>\n",
       "      <td>118093</td>\n",
       "      <td>225000.0</td>\n",
       "      <td>-19672</td>\n",
       "      <td>-12615</td>\n",
       "      <td>Higher education</td>\n",
       "      <td>High skill tech staff</td>\n",
       "    </tr>\n",
       "    <tr>\n",
       "      <th>17948</th>\n",
       "      <td>120926</td>\n",
       "      <td>258025.5</td>\n",
       "      <td>-15176</td>\n",
       "      <td>-201</td>\n",
       "      <td>Higher education</td>\n",
       "      <td>Managers</td>\n",
       "    </tr>\n",
       "    <tr>\n",
       "      <th>264546</th>\n",
       "      <td>406372</td>\n",
       "      <td>19260.0</td>\n",
       "      <td>-15069</td>\n",
       "      <td>-4110</td>\n",
       "      <td>Secondary / secondary special</td>\n",
       "      <td>Core staff</td>\n",
       "    </tr>\n",
       "    <tr>\n",
       "      <th>266144</th>\n",
       "      <td>408304</td>\n",
       "      <td>14521.5</td>\n",
       "      <td>-10840</td>\n",
       "      <td>-3275</td>\n",
       "      <td>Secondary / secondary special</td>\n",
       "      <td>Core staff</td>\n",
       "    </tr>\n",
       "  </tbody>\n",
       "</table>\n",
       "</div>"
      ],
      "text/plain": [
       "        SK_ID_CURR  AMT_ANNUITY  DAYS_BIRTH  DAYS_EMPLOYED  \\\n",
       "265022      406897      30406.5      -11322           -489   \n",
       "15501       118093     225000.0      -19672         -12615   \n",
       "17948       120926     258025.5      -15176           -201   \n",
       "264546      406372      19260.0      -15069          -4110   \n",
       "266144      408304      14521.5      -10840          -3275   \n",
       "\n",
       "                  NAME_EDUCATION_TYPE        OCCUPATION_TYPE  \n",
       "265022  Secondary / secondary special            Sales staff  \n",
       "15501                Higher education  High skill tech staff  \n",
       "17948                Higher education               Managers  \n",
       "264546  Secondary / secondary special             Core staff  \n",
       "266144  Secondary / secondary special             Core staff  "
      ]
     },
     "execution_count": 62,
     "metadata": {},
     "output_type": "execute_result"
    }
   ],
   "source": [
    "# Lecture des infos des clients voisins sur app_train\n",
    "df_voisins = app_train.loc[df_voisins.index][affichage_colonne]\n",
    "df_voisins"
   ]
  },
  {
   "cell_type": "code",
   "execution_count": 74,
   "id": "9f8b0ff9",
   "metadata": {},
   "outputs": [],
   "source": [
    "from datetime import datetime, timedelta\n",
    "from dateutil.relativedelta import relativedelta\n",
    "def days_to_duration(days):\n",
    "    now = datetime.now()\n",
    "    target_date = now + timedelta(days=days)\n",
    "    delta = relativedelta(target_date, now)\n",
    "    return f\"{abs(delta.years)}y {abs(delta.months)}m {abs(delta.days)}d\""
   ]
  },
  {
   "cell_type": "code",
   "execution_count": 65,
   "id": "d80f1161",
   "metadata": {},
   "outputs": [],
   "source": [
    "df_voisins['DAYS_BIRTH'] = df_voisins['DAYS_BIRTH'].apply(lambda x: int(x / -365))"
   ]
  },
  {
   "cell_type": "code",
   "execution_count": 75,
   "id": "192f223a",
   "metadata": {},
   "outputs": [],
   "source": [
    "df_voisins['DAYS_EMPLOYED'] = df_voisins['DAYS_EMPLOYED'].apply(days_to_duration)"
   ]
  },
  {
   "cell_type": "code",
   "execution_count": 76,
   "id": "d9a9031d",
   "metadata": {},
   "outputs": [
    {
     "data": {
      "text/html": [
       "<div>\n",
       "<style scoped>\n",
       "    .dataframe tbody tr th:only-of-type {\n",
       "        vertical-align: middle;\n",
       "    }\n",
       "\n",
       "    .dataframe tbody tr th {\n",
       "        vertical-align: top;\n",
       "    }\n",
       "\n",
       "    .dataframe thead th {\n",
       "        text-align: right;\n",
       "    }\n",
       "</style>\n",
       "<table border=\"1\" class=\"dataframe\">\n",
       "  <thead>\n",
       "    <tr style=\"text-align: right;\">\n",
       "      <th></th>\n",
       "      <th>SK_ID_CURR</th>\n",
       "      <th>AMT_ANNUITY</th>\n",
       "      <th>DAYS_BIRTH</th>\n",
       "      <th>DAYS_EMPLOYED</th>\n",
       "      <th>NAME_EDUCATION_TYPE</th>\n",
       "      <th>OCCUPATION_TYPE</th>\n",
       "    </tr>\n",
       "  </thead>\n",
       "  <tbody>\n",
       "    <tr>\n",
       "      <th>265022</th>\n",
       "      <td>406897</td>\n",
       "      <td>30406.5</td>\n",
       "      <td>31</td>\n",
       "      <td>1y 4m 3d</td>\n",
       "      <td>Secondary / secondary special</td>\n",
       "      <td>Sales staff</td>\n",
       "    </tr>\n",
       "    <tr>\n",
       "      <th>15501</th>\n",
       "      <td>118093</td>\n",
       "      <td>225000.0</td>\n",
       "      <td>53</td>\n",
       "      <td>34y 6m 15d</td>\n",
       "      <td>Higher education</td>\n",
       "      <td>High skill tech staff</td>\n",
       "    </tr>\n",
       "    <tr>\n",
       "      <th>17948</th>\n",
       "      <td>120926</td>\n",
       "      <td>258025.5</td>\n",
       "      <td>41</td>\n",
       "      <td>0y 6m 19d</td>\n",
       "      <td>Higher education</td>\n",
       "      <td>Managers</td>\n",
       "    </tr>\n",
       "    <tr>\n",
       "      <th>264546</th>\n",
       "      <td>406372</td>\n",
       "      <td>19260.0</td>\n",
       "      <td>41</td>\n",
       "      <td>11y 3m 2d</td>\n",
       "      <td>Secondary / secondary special</td>\n",
       "      <td>Core staff</td>\n",
       "    </tr>\n",
       "    <tr>\n",
       "      <th>266144</th>\n",
       "      <td>408304</td>\n",
       "      <td>14521.5</td>\n",
       "      <td>29</td>\n",
       "      <td>8y 11m 18d</td>\n",
       "      <td>Secondary / secondary special</td>\n",
       "      <td>Core staff</td>\n",
       "    </tr>\n",
       "  </tbody>\n",
       "</table>\n",
       "</div>"
      ],
      "text/plain": [
       "        SK_ID_CURR  AMT_ANNUITY  DAYS_BIRTH DAYS_EMPLOYED  \\\n",
       "265022      406897      30406.5          31      1y 4m 3d   \n",
       "15501       118093     225000.0          53    34y 6m 15d   \n",
       "17948       120926     258025.5          41     0y 6m 19d   \n",
       "264546      406372      19260.0          41     11y 3m 2d   \n",
       "266144      408304      14521.5          29    8y 11m 18d   \n",
       "\n",
       "                  NAME_EDUCATION_TYPE        OCCUPATION_TYPE  \n",
       "265022  Secondary / secondary special            Sales staff  \n",
       "15501                Higher education  High skill tech staff  \n",
       "17948                Higher education               Managers  \n",
       "264546  Secondary / secondary special             Core staff  \n",
       "266144  Secondary / secondary special             Core staff  "
      ]
     },
     "execution_count": 76,
     "metadata": {},
     "output_type": "execute_result"
    }
   ],
   "source": [
    "df_voisins"
   ]
  },
  {
   "cell_type": "code",
   "execution_count": 88,
   "id": "62140c91",
   "metadata": {},
   "outputs": [],
   "source": [
    "# fonctions load_voisins\n",
    "# X_train X_test Knn APP_train\n",
    "@app.route(\"/load_voisins\", methods=[\"GET\"])\n",
    "#id = 100005\n",
    "def load_voisins():\n",
    "    id = request.args.get(\"id_client\")\n",
    "    interpretable_important_data = [    'PAYMENT_RATE',\n",
    "                                    'AMT_ANNUITY',\n",
    "                                    'DAYS_BIRTH',\n",
    "                                    'DAYS_EMPLOYED',\n",
    "                                    'ANNUITY_INCOME_PERC']\n",
    "    #selection client\n",
    "    data_client = df_test[X_test[\"SK_ID_CURR\"] == int(id)][interpretable_important_data]\n",
    "    distances, indices = knn.kneighbors(data_client)\n",
    "    X_train_selected = X_train[interpretable_important_data]\n",
    "    # selections des plus proches voisins\n",
    "    df_voisins = X_train_selected.iloc[indices[0], :]\n",
    "    # Selection des colonnes à afficher\n",
    "    affichage_colonne = [    \n",
    "                            'SK_ID_CURR',\n",
    "                            'AMT_ANNUITY',\n",
    "                             'DAYS_BIRTH',\n",
    "                             'DAYS_EMPLOYED',\n",
    "                             'NAME_EDUCATION_TYPE',\n",
    "                             'OCCUPATION_TYPE',\n",
    "\n",
    "                         ]\n",
    "    df_voisins = app_train.loc[df_voisins.index][affichage_colonne]\n",
    "    # traitement champ Day employed\n",
    "    from datetime import datetime, timedelta\n",
    "    from dateutil.relativedelta import relativedelta\n",
    "    def days_to_duration(days):\n",
    "        now = datetime.now()\n",
    "        target_date = now + timedelta(days=days)\n",
    "        delta = relativedelta(target_date, now)\n",
    "        return f\"{abs(delta.years)}y {abs(delta.months)}m {abs(delta.days)}d\"\n",
    "    df_voisins['DAYS_EMPLOYED'] = df_voisins['DAYS_EMPLOYED'].apply(days_to_duration)\n",
    "    # traitement de Day birth\n",
    "    df_voisins['DAYS_BIRTH'] = df_voisins['DAYS_BIRTH'].apply(lambda x: int(x / -365))\n",
    "    return jsonify(df_voisins.to_dict(orient='records'))"
   ]
  },
  {
   "cell_type": "code",
   "execution_count": 89,
   "id": "579ffd28",
   "metadata": {},
   "outputs": [
    {
     "data": {
      "text/html": [
       "<div>\n",
       "<style scoped>\n",
       "    .dataframe tbody tr th:only-of-type {\n",
       "        vertical-align: middle;\n",
       "    }\n",
       "\n",
       "    .dataframe tbody tr th {\n",
       "        vertical-align: top;\n",
       "    }\n",
       "\n",
       "    .dataframe thead th {\n",
       "        text-align: right;\n",
       "    }\n",
       "</style>\n",
       "<table border=\"1\" class=\"dataframe\">\n",
       "  <thead>\n",
       "    <tr style=\"text-align: right;\">\n",
       "      <th></th>\n",
       "      <th>SK_ID_CURR</th>\n",
       "      <th>AMT_ANNUITY</th>\n",
       "      <th>DAYS_BIRTH</th>\n",
       "      <th>DAYS_EMPLOYED</th>\n",
       "      <th>NAME_EDUCATION_TYPE</th>\n",
       "      <th>OCCUPATION_TYPE</th>\n",
       "    </tr>\n",
       "  </thead>\n",
       "  <tbody>\n",
       "    <tr>\n",
       "      <th>265022</th>\n",
       "      <td>406897</td>\n",
       "      <td>30406.5</td>\n",
       "      <td>31</td>\n",
       "      <td>1y 4m 3d</td>\n",
       "      <td>Secondary / secondary special</td>\n",
       "      <td>Sales staff</td>\n",
       "    </tr>\n",
       "    <tr>\n",
       "      <th>15501</th>\n",
       "      <td>118093</td>\n",
       "      <td>225000.0</td>\n",
       "      <td>53</td>\n",
       "      <td>34y 6m 15d</td>\n",
       "      <td>Higher education</td>\n",
       "      <td>High skill tech staff</td>\n",
       "    </tr>\n",
       "    <tr>\n",
       "      <th>17948</th>\n",
       "      <td>120926</td>\n",
       "      <td>258025.5</td>\n",
       "      <td>41</td>\n",
       "      <td>0y 6m 19d</td>\n",
       "      <td>Higher education</td>\n",
       "      <td>Managers</td>\n",
       "    </tr>\n",
       "    <tr>\n",
       "      <th>264546</th>\n",
       "      <td>406372</td>\n",
       "      <td>19260.0</td>\n",
       "      <td>41</td>\n",
       "      <td>11y 3m 2d</td>\n",
       "      <td>Secondary / secondary special</td>\n",
       "      <td>Core staff</td>\n",
       "    </tr>\n",
       "    <tr>\n",
       "      <th>266144</th>\n",
       "      <td>408304</td>\n",
       "      <td>14521.5</td>\n",
       "      <td>29</td>\n",
       "      <td>8y 11m 18d</td>\n",
       "      <td>Secondary / secondary special</td>\n",
       "      <td>Core staff</td>\n",
       "    </tr>\n",
       "  </tbody>\n",
       "</table>\n",
       "</div>"
      ],
      "text/plain": [
       "        SK_ID_CURR  AMT_ANNUITY  DAYS_BIRTH DAYS_EMPLOYED  \\\n",
       "265022      406897      30406.5          31      1y 4m 3d   \n",
       "15501       118093     225000.0          53    34y 6m 15d   \n",
       "17948       120926     258025.5          41     0y 6m 19d   \n",
       "264546      406372      19260.0          41     11y 3m 2d   \n",
       "266144      408304      14521.5          29    8y 11m 18d   \n",
       "\n",
       "                  NAME_EDUCATION_TYPE        OCCUPATION_TYPE  \n",
       "265022  Secondary / secondary special            Sales staff  \n",
       "15501                Higher education  High skill tech staff  \n",
       "17948                Higher education               Managers  \n",
       "264546  Secondary / secondary special             Core staff  \n",
       "266144  Secondary / secondary special             Core staff  "
      ]
     },
     "execution_count": 89,
     "metadata": {},
     "output_type": "execute_result"
    }
   ],
   "source": [
    "df_voisins"
   ]
  },
  {
   "cell_type": "markdown",
   "id": "c4e857de",
   "metadata": {},
   "source": [
    "## Affichage graphe info client et voisins"
   ]
  },
  {
   "cell_type": "code",
   "execution_count": 53,
   "id": "7f05ccb8",
   "metadata": {},
   "outputs": [],
   "source": [
    "def plot_categorical_variables_bar(data, column_name, figsize = (18,6), percentage_display = True, plot_defaulter = True, rotation = 0, horizontal_adjust = 0, fontsize_percent = 'xx-small'):\n",
    "    \n",
    "    '''\n",
    "    Function to plot Categorical Variables Bar Plots\n",
    "    \n",
    "    Inputs:\n",
    "        data: DataFrame\n",
    "            The DataFrame from which to plot\n",
    "        column_name: str\n",
    "            Column's name whose distribution is to be plotted\n",
    "        figsize: tuple, default = (18,6)\n",
    "            Size of the figure to be plotted\n",
    "        percentage_display: bool, default = True\n",
    "            Whether to display the percentages on top of Bars in Bar-Plot\n",
    "        plot_defaulter: bool\n",
    "            Whether to plot the Bar Plots for Defaulters or not\n",
    "        rotation: int, default = 0\n",
    "            Degree of rotation for x-tick labels\n",
    "        horizontal_adjust: int, default = 0\n",
    "            Horizontal adjustment parameter for percentages displayed on the top of Bars of Bar-Plot\n",
    "        fontsize_percent: str, default = 'xx-small'\n",
    "            Fontsize for percentage Display\n",
    "        \n",
    "    '''\n",
    "    \n",
    "    #print(f\"Total Number of unique categories of {column_name} = {len(data[column_name].unique())}\")\n",
    "    \n",
    "    plt.figure(figsize = figsize, tight_layout = False)\n",
    "    sns.set(style = 'whitegrid', font_scale = 1.2)\n",
    "    \n",
    "    #plotting overall distribution of category\n",
    "    plt.subplot(1,2,1)\n",
    "    data_to_plot = data[column_name].value_counts().sort_values(ascending = False)\n",
    "    ax = sns.barplot(x = data_to_plot.index, y = data_to_plot, palette = 'Set1')\n",
    "    \n",
    "    if percentage_display:\n",
    "        total_datapoints = len(data[column_name].dropna())\n",
    "        for p in ax.patches:\n",
    "            ax.text(p.get_x() + horizontal_adjust, p.get_height() + 0.005 * total_datapoints, '{:1.02f}%'.format(p.get_height() * 100 / total_datapoints), fontsize = fontsize_percent)\n",
    "        \n",
    "    plt.xlabel(column_name, labelpad = 10)\n",
    "    plt.title(f'Distribution of {column_name}', pad = 20)\n",
    "    plt.xticks(rotation = rotation)\n",
    "    plt.ylabel('Counts')\n",
    "    \n",
    "    #plotting distribution of category for Defaulters\n",
    "    if plot_defaulter:\n",
    "        percentage_defaulter_per_category = (data[column_name][data.TARGET == 1].value_counts() * 100 / data[column_name].value_counts()).dropna().sort_values(ascending = False)\n",
    "\n",
    "        plt.subplot(1,2,2)\n",
    "        sns.barplot(x = percentage_defaulter_per_category.index, y = percentage_defaulter_per_category, palette = 'Set2')\n",
    "        plt.ylabel('Percentage of Defaulter per category')\n",
    "        plt.xlabel(column_name, labelpad = 10)\n",
    "        plt.xticks(rotation = rotation)\n",
    "        plt.title(f'Percentage of Defaulters for each category of {column_name}', pad = 20)\n",
    "        plt.savefig('education_type')\n",
    "    plt.show()"
   ]
  },
  {
   "cell_type": "code",
   "execution_count": 47,
   "id": "8a7276b0",
   "metadata": {},
   "outputs": [],
   "source": [
    "def print_unique_categories(data, column_name, show_counts = False):\n",
    "    \n",
    "    '''\n",
    "    Function to print the basic stats such as unique categories and their counts for categorical variables\n",
    "    \n",
    "        Inputs:\n",
    "        data: DataFrame\n",
    "            The DataFrame from which to print statistics\n",
    "        column_name: str\n",
    "            Column's name whose stats are to be printed\n",
    "        show_counts: bool, default = False\n",
    "            Whether to show counts of each category or not\n",
    "\n",
    "    '''\n",
    "    \n",
    "    print('-'*100)\n",
    "    print(f\"The unique categories of '{column_name}' are:\\n{data[column_name].unique()}\")\n",
    "    print('-'*100)\n",
    "    \n",
    "    if show_counts:\n",
    "        print(f\"Counts of each category are:\\n{data[column_name].value_counts()}\")\n",
    "        print('-'*100)"
   ]
  },
  {
   "cell_type": "code",
   "execution_count": 54,
   "id": "e95fb15f",
   "metadata": {},
   "outputs": [
    {
     "data": {
      "image/png": "[encoded data removed]",
      "text/plain": [
       "<Figure size 1800x600 with 2 Axes>"
      ]
     },
     "metadata": {},
     "output_type": "display_data"
    }
   ],
   "source": [
    "plot_categorical_variables_bar(app_train, column_name = \"NAME_EDUCATION_TYPE\", rotation = 45, horizontal_adjust = 0.25)"
   ]
  },
  {
   "cell_type": "code",
   "execution_count": 52,
   "id": "baa3f2c6",
   "metadata": {},
   "outputs": [
    {
     "data": {
      "image/png": "[encoded data removed]",
      "text/plain": [
       "<Figure size 2000x600 with 2 Axes>"
      ]
     },
     "metadata": {},
     "output_type": "display_data"
    }
   ],
   "source": [
    "plot_categorical_variables_bar(app_train, column_name = 'OCCUPATION_TYPE', figsize = (20,6), rotation = 90)"
   ]
  },
  {
   "cell_type": "code",
   "execution_count": null,
   "id": "e49adab7",
   "metadata": {},
   "outputs": [],
   "source": [
    "@app.route(\"/infos_client\", methods=[\"GET\"])\n",
    "def infos_client():\n",
    "    id = request.args.get(\"id_client\")\n",
    "    data_client = df_test[df_test[\"SK_ID_CURR\"] == int(id)]\n",
    "\n",
    "    dict_infos = {\n",
    "       #\"status_famille\": data_client[\"NAME_FAMILY_STATUS\"].item(),\n",
    "       \"nb_enfant\": data_client[\"CNT_CHILDREN\"].item(),\n",
    "       \"age\": int(data_client[\"DAYS_BIRTH\"].values / -365),\n",
    "       \"revenus\": data_client[\"AMT_INCOME_TOTAL\"].item(),\n",
    "       \"montant_credit\": data_client[\"AMT_CREDIT\"].item(),\n",
    "       \"annuites\": data_client[\"AMT_ANNUITY\"].item(),\n",
    "       \"montant_bien\": data_client[\"AMT_GOODS_PRICE\"].item()\n",
    "    }"
   ]
  },
  {
   "cell_type": "code",
   "execution_count": 35,
   "id": "c9a22b25",
   "metadata": {},
   "outputs": [
    {
     "data": {
      "text/plain": [
       "(48744, 797)"
      ]
     },
     "execution_count": 35,
     "metadata": {},
     "output_type": "execute_result"
    }
   ],
   "source": [
    "path = \"data/pickle/\"\n",
    "df_test = pickle.load(open(path + 'X_test.pickle', 'rb'))\n",
    "df_test.shape"
   ]
  },
  {
   "cell_type": "code",
   "execution_count": 34,
   "id": "b3547447",
   "metadata": {},
   "outputs": [
    {
     "data": {
      "text/plain": [
       "(48744, 121)"
      ]
     },
     "execution_count": 34,
     "metadata": {},
     "output_type": "execute_result"
    }
   ],
   "source": [
    "path = \"data/pickle/\"\n",
    "app_test = pickle.load(open(path + 'app_test.pickle', 'rb'))\n",
    "app_test.shape"
   ]
  },
  {
   "cell_type": "code",
   "execution_count": 36,
   "id": "7edac85e",
   "metadata": {},
   "outputs": [
    {
     "data": {
      "text/html": [
       "<div>\n",
       "<style scoped>\n",
       "    .dataframe tbody tr th:only-of-type {\n",
       "        vertical-align: middle;\n",
       "    }\n",
       "\n",
       "    .dataframe tbody tr th {\n",
       "        vertical-align: top;\n",
       "    }\n",
       "\n",
       "    .dataframe thead th {\n",
       "        text-align: right;\n",
       "    }\n",
       "</style>\n",
       "<table border=\"1\" class=\"dataframe\">\n",
       "  <thead>\n",
       "    <tr style=\"text-align: right;\">\n",
       "      <th></th>\n",
       "      <th>index</th>\n",
       "      <th>SK_ID_CURR</th>\n",
       "      <th>CODE_GENDER</th>\n",
       "      <th>FLAG_OWN_CAR</th>\n",
       "      <th>FLAG_OWN_REALTY</th>\n",
       "      <th>CNT_CHILDREN</th>\n",
       "      <th>AMT_INCOME_TOTAL</th>\n",
       "      <th>AMT_CREDIT</th>\n",
       "      <th>AMT_ANNUITY</th>\n",
       "      <th>AMT_GOODS_PRICE</th>\n",
       "      <th>...</th>\n",
       "      <th>CC_NAME_CONTRACT_STATUS_Signed_MAX</th>\n",
       "      <th>CC_NAME_CONTRACT_STATUS_Signed_MEAN</th>\n",
       "      <th>CC_NAME_CONTRACT_STATUS_Signed_SUM</th>\n",
       "      <th>CC_NAME_CONTRACT_STATUS_Signed_VAR</th>\n",
       "      <th>CC_NAME_CONTRACT_STATUS_nan_MIN</th>\n",
       "      <th>CC_NAME_CONTRACT_STATUS_nan_MAX</th>\n",
       "      <th>CC_NAME_CONTRACT_STATUS_nan_MEAN</th>\n",
       "      <th>CC_NAME_CONTRACT_STATUS_nan_SUM</th>\n",
       "      <th>CC_NAME_CONTRACT_STATUS_nan_VAR</th>\n",
       "      <th>CC_COUNT</th>\n",
       "    </tr>\n",
       "  </thead>\n",
       "  <tbody>\n",
       "    <tr>\n",
       "      <th>1</th>\n",
       "      <td>1.0</td>\n",
       "      <td>100005</td>\n",
       "      <td>0.0</td>\n",
       "      <td>0.0</td>\n",
       "      <td>0.0</td>\n",
       "      <td>0.0</td>\n",
       "      <td>99000.0</td>\n",
       "      <td>222768.0</td>\n",
       "      <td>17370.0</td>\n",
       "      <td>180000.0</td>\n",
       "      <td>...</td>\n",
       "      <td>0.0</td>\n",
       "      <td>0.0</td>\n",
       "      <td>0.0</td>\n",
       "      <td>0.0</td>\n",
       "      <td>0.0</td>\n",
       "      <td>0.0</td>\n",
       "      <td>0.0</td>\n",
       "      <td>0.0</td>\n",
       "      <td>0.0</td>\n",
       "      <td>22.0</td>\n",
       "    </tr>\n",
       "  </tbody>\n",
       "</table>\n",
       "<p>1 rows × 797 columns</p>\n",
       "</div>"
      ],
      "text/plain": [
       "   index  SK_ID_CURR  CODE_GENDER  FLAG_OWN_CAR  FLAG_OWN_REALTY  \\\n",
       "1    1.0      100005          0.0           0.0              0.0   \n",
       "\n",
       "   CNT_CHILDREN  AMT_INCOME_TOTAL  AMT_CREDIT  AMT_ANNUITY  AMT_GOODS_PRICE  \\\n",
       "1           0.0           99000.0    222768.0      17370.0         180000.0   \n",
       "\n",
       "   ...  CC_NAME_CONTRACT_STATUS_Signed_MAX  \\\n",
       "1  ...                                 0.0   \n",
       "\n",
       "   CC_NAME_CONTRACT_STATUS_Signed_MEAN  CC_NAME_CONTRACT_STATUS_Signed_SUM  \\\n",
       "1                                  0.0                                 0.0   \n",
       "\n",
       "   CC_NAME_CONTRACT_STATUS_Signed_VAR  CC_NAME_CONTRACT_STATUS_nan_MIN  \\\n",
       "1                                 0.0                              0.0   \n",
       "\n",
       "   CC_NAME_CONTRACT_STATUS_nan_MAX  CC_NAME_CONTRACT_STATUS_nan_MEAN  \\\n",
       "1                              0.0                               0.0   \n",
       "\n",
       "   CC_NAME_CONTRACT_STATUS_nan_SUM  CC_NAME_CONTRACT_STATUS_nan_VAR  CC_COUNT  \n",
       "1                              0.0                              0.0      22.0  \n",
       "\n",
       "[1 rows x 797 columns]"
      ]
     },
     "execution_count": 36,
     "metadata": {},
     "output_type": "execute_result"
    }
   ],
   "source": [
    "id = 100005\n",
    "data_client = df_test[df_test[\"SK_ID_CURR\"] == int(id)]\n",
    "data_client"
   ]
  },
  {
   "cell_type": "code",
   "execution_count": 88,
   "id": "06e16af1",
   "metadata": {},
   "outputs": [],
   "source": [
    "dict_infos = {\n",
    "       #\"status_famille\": data_client[\"NAME_FAMILY_STATUS\"].item(),\n",
    "       \"nb_enfant\": data_client[\"CNT_CHILDREN\"].item(),\n",
    "       \"age\": int(data_client[\"DAYS_BIRTH\"].values / -365),\n",
    "       \"revenus\": data_client[\"AMT_INCOME_TOTAL\"].item(),\n",
    "       \"montant_credit\": data_client[\"AMT_CREDIT\"].item(),\n",
    "       \"annuites\": data_client[\"AMT_ANNUITY\"].item(),\n",
    "       \"montant_bien\": data_client[\"AMT_GOODS_PRICE\"].item(),\n",
    "       \"metier\"      : data_client[\"OCCUPATION_TYPE\"].item()\n",
    "    }"
   ]
  },
  {
   "cell_type": "code",
   "execution_count": 89,
   "id": "fd094deb",
   "metadata": {},
   "outputs": [
    {
     "data": {
      "text/plain": [
       "{'nb_enfant': 0,\n",
       " 'age': 49,\n",
       " 'revenus': 99000.0,\n",
       " 'montant_credit': 222768.0,\n",
       " 'annuites': 17370.0,\n",
       " 'montant_bien': 180000.0,\n",
       " 'metier': 'Low-skill Laborers'}"
      ]
     },
     "execution_count": 89,
     "metadata": {},
     "output_type": "execute_result"
    }
   ],
   "source": [
    "dict_infos"
   ]
  },
  {
   "cell_type": "code",
   "execution_count": 80,
   "id": "28707f91",
   "metadata": {},
   "outputs": [
    {
     "data": {
      "text/html": [
       "<div>\n",
       "<style scoped>\n",
       "    .dataframe tbody tr th:only-of-type {\n",
       "        vertical-align: middle;\n",
       "    }\n",
       "\n",
       "    .dataframe tbody tr th {\n",
       "        vertical-align: top;\n",
       "    }\n",
       "\n",
       "    .dataframe thead th {\n",
       "        text-align: right;\n",
       "    }\n",
       "</style>\n",
       "<table border=\"1\" class=\"dataframe\">\n",
       "  <thead>\n",
       "    <tr style=\"text-align: right;\">\n",
       "      <th></th>\n",
       "      <th>SK_ID_CURR</th>\n",
       "      <th>NAME_CONTRACT_TYPE</th>\n",
       "      <th>CODE_GENDER</th>\n",
       "      <th>FLAG_OWN_CAR</th>\n",
       "      <th>FLAG_OWN_REALTY</th>\n",
       "      <th>CNT_CHILDREN</th>\n",
       "      <th>AMT_INCOME_TOTAL</th>\n",
       "      <th>AMT_CREDIT</th>\n",
       "      <th>AMT_ANNUITY</th>\n",
       "      <th>AMT_GOODS_PRICE</th>\n",
       "      <th>...</th>\n",
       "      <th>FLAG_DOCUMENT_18</th>\n",
       "      <th>FLAG_DOCUMENT_19</th>\n",
       "      <th>FLAG_DOCUMENT_20</th>\n",
       "      <th>FLAG_DOCUMENT_21</th>\n",
       "      <th>AMT_REQ_CREDIT_BUREAU_HOUR</th>\n",
       "      <th>AMT_REQ_CREDIT_BUREAU_DAY</th>\n",
       "      <th>AMT_REQ_CREDIT_BUREAU_WEEK</th>\n",
       "      <th>AMT_REQ_CREDIT_BUREAU_MON</th>\n",
       "      <th>AMT_REQ_CREDIT_BUREAU_QRT</th>\n",
       "      <th>AMT_REQ_CREDIT_BUREAU_YEAR</th>\n",
       "    </tr>\n",
       "  </thead>\n",
       "  <tbody>\n",
       "    <tr>\n",
       "      <th>1</th>\n",
       "      <td>100005</td>\n",
       "      <td>Cash loans</td>\n",
       "      <td>M</td>\n",
       "      <td>N</td>\n",
       "      <td>Y</td>\n",
       "      <td>0</td>\n",
       "      <td>99000.0</td>\n",
       "      <td>222768.0</td>\n",
       "      <td>17370.0</td>\n",
       "      <td>180000.0</td>\n",
       "      <td>...</td>\n",
       "      <td>0</td>\n",
       "      <td>0</td>\n",
       "      <td>0</td>\n",
       "      <td>0</td>\n",
       "      <td>0.0</td>\n",
       "      <td>0.0</td>\n",
       "      <td>0.0</td>\n",
       "      <td>0.0</td>\n",
       "      <td>0.0</td>\n",
       "      <td>3.0</td>\n",
       "    </tr>\n",
       "  </tbody>\n",
       "</table>\n",
       "<p>1 rows × 121 columns</p>\n",
       "</div>"
      ],
      "text/plain": [
       "   SK_ID_CURR NAME_CONTRACT_TYPE CODE_GENDER FLAG_OWN_CAR FLAG_OWN_REALTY  \\\n",
       "1      100005         Cash loans           M            N               Y   \n",
       "\n",
       "   CNT_CHILDREN  AMT_INCOME_TOTAL  AMT_CREDIT  AMT_ANNUITY  AMT_GOODS_PRICE  \\\n",
       "1             0           99000.0    222768.0      17370.0         180000.0   \n",
       "\n",
       "   ... FLAG_DOCUMENT_18 FLAG_DOCUMENT_19 FLAG_DOCUMENT_20 FLAG_DOCUMENT_21  \\\n",
       "1  ...                0                0                0                0   \n",
       "\n",
       "  AMT_REQ_CREDIT_BUREAU_HOUR  AMT_REQ_CREDIT_BUREAU_DAY  \\\n",
       "1                        0.0                        0.0   \n",
       "\n",
       "   AMT_REQ_CREDIT_BUREAU_WEEK  AMT_REQ_CREDIT_BUREAU_MON  \\\n",
       "1                         0.0                        0.0   \n",
       "\n",
       "   AMT_REQ_CREDIT_BUREAU_QRT  AMT_REQ_CREDIT_BUREAU_YEAR  \n",
       "1                        0.0                         3.0  \n",
       "\n",
       "[1 rows x 121 columns]"
      ]
     },
     "execution_count": 80,
     "metadata": {},
     "output_type": "execute_result"
    }
   ],
   "source": [
    "\n",
    "data_client = app_test.loc[app_test['SK_ID_CURR'] == id]\n",
    "data_client"
   ]
  },
  {
   "cell_type": "code",
   "execution_count": 84,
   "id": "240766fc",
   "metadata": {},
   "outputs": [],
   "source": [
    "dict_infos = {\n",
    "       \"status_famille\": data_client[\"NAME_FAMILY_STATUS\"].item(),\n",
    "       \"nb_enfant\": data_client[\"CNT_CHILDREN\"].item(),\n",
    "       \"age\": int(data_client[\"DAYS_BIRTH\"].values / -365),\n",
    "       \"revenus\": data_client[\"AMT_INCOME_TOTAL\"].item(),\n",
    "       \"montant_credit\": data_client[\"AMT_CREDIT\"].item(),\n",
    "       \"annuites\": data_client[\"AMT_ANNUITY\"].item(),\n",
    "       \"montant_bien\": data_client[\"AMT_GOODS_PRICE\"].item(),\n",
    "       \"etude\"       : data_client[\"NAME_EDUCATION_TYPE\"].item()\n",
    "        \n",
    "    }"
   ]
  },
  {
   "cell_type": "code",
   "execution_count": 85,
   "id": "3312cf6c",
   "metadata": {},
   "outputs": [
    {
     "data": {
      "text/plain": [
       "{'status_famille': 'Married',\n",
       " 'nb_enfant': 0,\n",
       " 'age': 49,\n",
       " 'revenus': 99000.0,\n",
       " 'montant_credit': 222768.0,\n",
       " 'annuites': 17370.0,\n",
       " 'montant_bien': 180000.0,\n",
       " 'etude': 'Secondary / secondary special'}"
      ]
     },
     "execution_count": 85,
     "metadata": {},
     "output_type": "execute_result"
    }
   ],
   "source": [
    "dict_infos"
   ]
  },
  {
   "cell_type": "code",
   "execution_count": 59,
   "id": "9884017f",
   "metadata": {},
   "outputs": [
    {
     "data": {
      "text/plain": [
       "'Married'"
      ]
     },
     "execution_count": 59,
     "metadata": {},
     "output_type": "execute_result"
    }
   ],
   "source": [
    "dict_infos['status_famille']"
   ]
  },
  {
   "cell_type": "code",
   "execution_count": 66,
   "id": "c47b0ac4",
   "metadata": {},
   "outputs": [
    {
     "data": {
      "text/plain": [
       "<zip at 0x1642a24a6c0>"
      ]
     },
     "execution_count": 66,
     "metadata": {},
     "output_type": "execute_result"
    }
   ],
   "source": [
    "data_client['NAME_EDUCATION_TYPE'].items()"
   ]
  },
  {
   "cell_type": "code",
   "execution_count": 83,
   "id": "04798663",
   "metadata": {},
   "outputs": [
    {
     "data": {
      "text/plain": [
       "1    Secondary / secondary special\n",
       "Name: NAME_EDUCATION_TYPE, dtype: object"
      ]
     },
     "execution_count": 83,
     "metadata": {},
     "output_type": "execute_result"
    }
   ],
   "source": [
    "data_client['NAME_EDUCATION_TYPE']"
   ]
  },
  {
   "cell_type": "code",
   "execution_count": 90,
   "id": "837c4f56",
   "metadata": {},
   "outputs": [
    {
     "ename": "KeyError",
     "evalue": "'etude'",
     "output_type": "error",
     "traceback": [
      "\u001b[1;31m---------------------------------------------------------------------------\u001b[0m",
      "\u001b[1;31mKeyError\u001b[0m                                  Traceback (most recent call last)",
      "File \u001b[1;32m~\\anaconda3\\lib\\site-packages\\pandas\\core\\indexes\\base.py:3802\u001b[0m, in \u001b[0;36mIndex.get_loc\u001b[1;34m(self, key, method, tolerance)\u001b[0m\n\u001b[0;32m   3801\u001b[0m \u001b[38;5;28;01mtry\u001b[39;00m:\n\u001b[1;32m-> 3802\u001b[0m     \u001b[38;5;28;01mreturn\u001b[39;00m \u001b[38;5;28;43mself\u001b[39;49m\u001b[38;5;241;43m.\u001b[39;49m\u001b[43m_engine\u001b[49m\u001b[38;5;241;43m.\u001b[39;49m\u001b[43mget_loc\u001b[49m\u001b[43m(\u001b[49m\u001b[43mcasted_key\u001b[49m\u001b[43m)\u001b[49m\n\u001b[0;32m   3803\u001b[0m \u001b[38;5;28;01mexcept\u001b[39;00m \u001b[38;5;167;01mKeyError\u001b[39;00m \u001b[38;5;28;01mas\u001b[39;00m err:\n",
      "File \u001b[1;32m~\\anaconda3\\lib\\site-packages\\pandas\\_libs\\index.pyx:138\u001b[0m, in \u001b[0;36mpandas._libs.index.IndexEngine.get_loc\u001b[1;34m()\u001b[0m\n",
      "File \u001b[1;32m~\\anaconda3\\lib\\site-packages\\pandas\\_libs\\index.pyx:165\u001b[0m, in \u001b[0;36mpandas._libs.index.IndexEngine.get_loc\u001b[1;34m()\u001b[0m\n",
      "File \u001b[1;32mpandas\\_libs\\hashtable_class_helper.pxi:5745\u001b[0m, in \u001b[0;36mpandas._libs.hashtable.PyObjectHashTable.get_item\u001b[1;34m()\u001b[0m\n",
      "File \u001b[1;32mpandas\\_libs\\hashtable_class_helper.pxi:5753\u001b[0m, in \u001b[0;36mpandas._libs.hashtable.PyObjectHashTable.get_item\u001b[1;34m()\u001b[0m\n",
      "\u001b[1;31mKeyError\u001b[0m: 'etude'",
      "\nThe above exception was the direct cause of the following exception:\n",
      "\u001b[1;31mKeyError\u001b[0m                                  Traceback (most recent call last)",
      "Cell \u001b[1;32mIn[90], line 1\u001b[0m\n\u001b[1;32m----> 1\u001b[0m \u001b[43mdata_client\u001b[49m\u001b[43m[\u001b[49m\u001b[38;5;124;43m'\u001b[39;49m\u001b[38;5;124;43metude\u001b[39;49m\u001b[38;5;124;43m'\u001b[39;49m\u001b[43m]\u001b[49m\n",
      "File \u001b[1;32m~\\anaconda3\\lib\\site-packages\\pandas\\core\\frame.py:3807\u001b[0m, in \u001b[0;36mDataFrame.__getitem__\u001b[1;34m(self, key)\u001b[0m\n\u001b[0;32m   3805\u001b[0m \u001b[38;5;28;01mif\u001b[39;00m \u001b[38;5;28mself\u001b[39m\u001b[38;5;241m.\u001b[39mcolumns\u001b[38;5;241m.\u001b[39mnlevels \u001b[38;5;241m>\u001b[39m \u001b[38;5;241m1\u001b[39m:\n\u001b[0;32m   3806\u001b[0m     \u001b[38;5;28;01mreturn\u001b[39;00m \u001b[38;5;28mself\u001b[39m\u001b[38;5;241m.\u001b[39m_getitem_multilevel(key)\n\u001b[1;32m-> 3807\u001b[0m indexer \u001b[38;5;241m=\u001b[39m \u001b[38;5;28;43mself\u001b[39;49m\u001b[38;5;241;43m.\u001b[39;49m\u001b[43mcolumns\u001b[49m\u001b[38;5;241;43m.\u001b[39;49m\u001b[43mget_loc\u001b[49m\u001b[43m(\u001b[49m\u001b[43mkey\u001b[49m\u001b[43m)\u001b[49m\n\u001b[0;32m   3808\u001b[0m \u001b[38;5;28;01mif\u001b[39;00m is_integer(indexer):\n\u001b[0;32m   3809\u001b[0m     indexer \u001b[38;5;241m=\u001b[39m [indexer]\n",
      "File \u001b[1;32m~\\anaconda3\\lib\\site-packages\\pandas\\core\\indexes\\base.py:3804\u001b[0m, in \u001b[0;36mIndex.get_loc\u001b[1;34m(self, key, method, tolerance)\u001b[0m\n\u001b[0;32m   3802\u001b[0m     \u001b[38;5;28;01mreturn\u001b[39;00m \u001b[38;5;28mself\u001b[39m\u001b[38;5;241m.\u001b[39m_engine\u001b[38;5;241m.\u001b[39mget_loc(casted_key)\n\u001b[0;32m   3803\u001b[0m \u001b[38;5;28;01mexcept\u001b[39;00m \u001b[38;5;167;01mKeyError\u001b[39;00m \u001b[38;5;28;01mas\u001b[39;00m err:\n\u001b[1;32m-> 3804\u001b[0m     \u001b[38;5;28;01mraise\u001b[39;00m \u001b[38;5;167;01mKeyError\u001b[39;00m(key) \u001b[38;5;28;01mfrom\u001b[39;00m \u001b[38;5;21;01merr\u001b[39;00m\n\u001b[0;32m   3805\u001b[0m \u001b[38;5;28;01mexcept\u001b[39;00m \u001b[38;5;167;01mTypeError\u001b[39;00m:\n\u001b[0;32m   3806\u001b[0m     \u001b[38;5;66;03m# If we have a listlike key, _check_indexing_error will raise\u001b[39;00m\n\u001b[0;32m   3807\u001b[0m     \u001b[38;5;66;03m#  InvalidIndexError. Otherwise we fall through and re-raise\u001b[39;00m\n\u001b[0;32m   3808\u001b[0m     \u001b[38;5;66;03m#  the TypeError.\u001b[39;00m\n\u001b[0;32m   3809\u001b[0m     \u001b[38;5;28mself\u001b[39m\u001b[38;5;241m.\u001b[39m_check_indexing_error(key)\n",
      "\u001b[1;31mKeyError\u001b[0m: 'etude'"
     ]
    }
   ],
   "source": [
    "data_client['etude']"
   ]
  },
  {
   "cell_type": "markdown",
   "id": "8b9479ac",
   "metadata": {},
   "source": [
    "## Requirements.txt"
   ]
  },
  {
   "cell_type": "markdown",
   "id": "6a3494ff",
   "metadata": {},
   "source": [
    "Un fichier requirements.txt est un fichier texte qui liste les dépendances et les versions spécifiques d'un projet Python. Il facilite la gestion des dépendances et permet d'installer facilement les mêmes bibliothèques sur différentes machines."
   ]
  },
  {
   "cell_type": "code",
   "execution_count": null,
   "id": "81c529b9",
   "metadata": {},
   "outputs": [],
   "source": [
    "# pip freeze > requirements_all.txt\n",
    "# pip install pipreqs\n",
    "# pipreqs mon_projet\n",
    "\n",
    "# pour installer les bibliothèques et les versions spécifiques listées dans le fichier requirements.txt.\n",
    "#pip install -r requirements.txt\n",
    "\n"
   ]
  }
 ],
 "metadata": {
  "kernelspec": {
   "display_name": "Python 3 (ipykernel)",
   "language": "python",
   "name": "python3"
  },
  "language_info": {
   "codemirror_mode": {
    "name": "ipython",
    "version": 3
   },
   "file_extension": ".py",
   "mimetype": "text/x-python",
   "name": "python",
   "nbconvert_exporter": "python",
   "pygments_lexer": "ipython3",
   "version": "3.10.10"
  }
 },
 "nbformat": 4,
 "nbformat_minor": 5
}
